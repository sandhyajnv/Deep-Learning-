{
  "nbformat": 4,
  "nbformat_minor": 0,
  "metadata": {
    "colab": {
      "provenance": [],
      "include_colab_link": true
    },
    "kernelspec": {
      "name": "python3",
      "display_name": "Python 3"
    },
    "language_info": {
      "name": "python"
    }
  },
  "cells": [
    {
      "cell_type": "markdown",
      "metadata": {
        "id": "view-in-github",
        "colab_type": "text"
      },
      "source": [
        "<a href=\"https://colab.research.google.com/github/sandhyajnv/Deep-Learning-/blob/main/DL_Assignment2_classification_1layer.ipynb\" target=\"_parent\"><img src=\"https://colab.research.google.com/assets/colab-badge.svg\" alt=\"Open In Colab\"/></a>"
      ]
    },
    {
      "cell_type": "code",
      "execution_count": null,
      "metadata": {
        "id": "Qft8sy-t2VYk"
      },
      "outputs": [],
      "source": [
        "import pandas as pd\n",
        "from matplotlib import pyplot as plt\n",
        "import numpy as np"
      ]
    },
    {
      "cell_type": "code",
      "source": [
        "from google.colab import drive\n",
        "drive.mount('/content/drive')"
      ],
      "metadata": {
        "colab": {
          "base_uri": "https://localhost:8080/"
        },
        "id": "eTtdqz8jP6U-",
        "outputId": "ae027354-5b89-4298-f53d-8b1ad737ac07"
      },
      "execution_count": null,
      "outputs": [
        {
          "output_type": "stream",
          "name": "stdout",
          "text": [
            "Drive already mounted at /content/drive; to attempt to forcibly remount, call drive.mount(\"/content/drive\", force_remount=True).\n"
          ]
        }
      ]
    },
    {
      "cell_type": "code",
      "source": [
        "def data_extract(path):\n",
        "  my_file = open(path, \"r\")\n",
        "  data = my_file.read()\n",
        "  data_into_list = data.split(\"\\n\")\n",
        "  #data_into_list=data_into_list[1:]\n",
        "  new=[]\n",
        "\n",
        "  for i in range(len(data_into_list[:-1])):\n",
        "    a=data_into_list[i]\n",
        "    a=a.split(\" \")\n",
        "    a=a[:2]\n",
        "    a=np.array(a)\n",
        "    a=np.float_(a)\n",
        "    a=list(a)\n",
        "    new.append(a)\n",
        "\n",
        "  data=np.array(new)\n",
        "  return(data)\n"
      ],
      "metadata": {
        "id": "R80ze7GpREG-"
      },
      "execution_count": null,
      "outputs": []
    },
    {
      "cell_type": "code",
      "source": [
        "\n",
        "path=\"/content/drive/MyDrive/Class1.txt\"\n",
        "data_class1=data_extract(path)"
      ],
      "metadata": {
        "id": "h08o9P5xQd9v"
      },
      "execution_count": null,
      "outputs": []
    },
    {
      "cell_type": "code",
      "source": [
        "data_class2=data_extract(\"/content/drive/MyDrive/Class2.txt\")\n",
        "data_class3=data_extract(\"/content/drive/MyDrive/Class3.txt\")"
      ],
      "metadata": {
        "id": "bDtIXhWWhMKC"
      },
      "execution_count": null,
      "outputs": []
    },
    {
      "cell_type": "code",
      "source": [
        "print(data_class1.shape,data_class2.shape,data_class3.shape)"
      ],
      "metadata": {
        "colab": {
          "base_uri": "https://localhost:8080/"
        },
        "id": "3GrZ-1x2jXbo",
        "outputId": "9744fe38-b26e-4240-c150-0c3287b86761"
      },
      "execution_count": null,
      "outputs": [
        {
          "output_type": "stream",
          "name": "stdout",
          "text": [
            "(500, 2) (500, 2) (500, 2)\n"
          ]
        }
      ]
    },
    {
      "cell_type": "code",
      "source": [
        "# data_class1=data[:500]\n",
        "# data_class2=data[500:1000]\n",
        "# data_class3=data[1000:1700]"
      ],
      "metadata": {
        "id": "0KXXVemDR60c"
      },
      "execution_count": null,
      "outputs": []
    },
    {
      "cell_type": "code",
      "source": [
        "data_class1_train=data_class1[:300].T\n",
        "data_class1_validation=data_class1[300:400].T\n",
        "\n",
        "data_class1_test=data_class1[400:].T"
      ],
      "metadata": {
        "id": "BvNt3RTzR63Y"
      },
      "execution_count": null,
      "outputs": []
    },
    {
      "cell_type": "code",
      "source": [
        "data_class2_train=data_class2[:300].T\n",
        "data_class2_validation=data_class2[300:400].T\n",
        "data_class2_test=data_class2[400:].T"
      ],
      "metadata": {
        "id": "0s7Qrq5nSrdM"
      },
      "execution_count": null,
      "outputs": []
    },
    {
      "cell_type": "code",
      "source": [
        "data_class3_train=data_class3[:300].T\n",
        "data_class3_validation=data_class3[300:400].T\n",
        "data_class3_test=data_class3[400:].T"
      ],
      "metadata": {
        "id": "SkbqjC0wRbkU"
      },
      "execution_count": null,
      "outputs": []
    },
    {
      "cell_type": "code",
      "source": [
        "print(data_class3_validation.shape)"
      ],
      "metadata": {
        "colab": {
          "base_uri": "https://localhost:8080/"
        },
        "id": "QjOMvTD6PAJq",
        "outputId": "d78e1644-5b04-4e0c-ceb6-9a0c4d1233d2"
      },
      "execution_count": null,
      "outputs": [
        {
          "output_type": "stream",
          "name": "stdout",
          "text": [
            "(2, 100)\n"
          ]
        }
      ]
    },
    {
      "cell_type": "code",
      "source": [
        "data_train=np.concatenate((data_class1_train,data_class2_train,data_class3_train),axis=1)"
      ],
      "metadata": {
        "id": "Mri-FlvIaVZN"
      },
      "execution_count": null,
      "outputs": []
    },
    {
      "cell_type": "code",
      "source": [
        "data_validation=np.concatenate((data_class1_validation,data_class2_validation,data_class3_validation),axis=1)"
      ],
      "metadata": {
        "id": "7G9E00m7CB_7"
      },
      "execution_count": null,
      "outputs": []
    },
    {
      "cell_type": "code",
      "source": [
        "print(data_validation.shape)"
      ],
      "metadata": {
        "colab": {
          "base_uri": "https://localhost:8080/"
        },
        "id": "TkBB9lozFb9h",
        "outputId": "01ed6bdf-6337-4357-eb50-3929547fe3e0"
      },
      "execution_count": null,
      "outputs": [
        {
          "output_type": "stream",
          "name": "stdout",
          "text": [
            "(2, 300)\n"
          ]
        }
      ]
    },
    {
      "cell_type": "code",
      "source": [
        "# 300,300,300\n",
        "gt1=np.int_(np.ones((1,300)))\n",
        "gt2=np.int_(2*np.ones((1,300)))\n",
        "gt3=np.int_(3*np.ones((1,300)))\n",
        "gt=np.concatenate((gt1,gt2,gt3),axis=1)\n",
        "\n",
        "print(gt.shape)\n"
      ],
      "metadata": {
        "colab": {
          "base_uri": "https://localhost:8080/"
        },
        "id": "7BOrCJLOZURm",
        "outputId": "43920cf0-55a7-4f9a-b22d-f929e5c0e421"
      },
      "execution_count": null,
      "outputs": [
        {
          "output_type": "stream",
          "name": "stdout",
          "text": [
            "(1, 900)\n"
          ]
        }
      ]
    },
    {
      "cell_type": "code",
      "source": [
        "# 100,100,100\n",
        "gt1_v=np.int_(np.ones((1,100)))\n",
        "gt2_v=np.int_(2*np.ones((1,100)))\n",
        "gt3_v=np.int_(3*np.ones((1,100)))\n",
        "gt_v=np.concatenate((gt1_v,gt2_v,gt3_v),axis=1)\n",
        "print(gt_v.shape)"
      ],
      "metadata": {
        "colab": {
          "base_uri": "https://localhost:8080/"
        },
        "id": "kfdxqiE8EpGc",
        "outputId": "b524691b-ac52-446a-ce31-699df06502b9"
      },
      "execution_count": null,
      "outputs": [
        {
          "output_type": "stream",
          "name": "stdout",
          "text": [
            "(1, 300)\n"
          ]
        }
      ]
    },
    {
      "cell_type": "code",
      "source": [
        "data_train=np.concatenate((gt,data_train),axis=0)"
      ],
      "metadata": {
        "id": "gymcvg19K9w5"
      },
      "execution_count": null,
      "outputs": []
    },
    {
      "cell_type": "code",
      "source": [
        "print(data_train[0,1])"
      ],
      "metadata": {
        "colab": {
          "base_uri": "https://localhost:8080/"
        },
        "id": "Jb_A9sEvLJ8v",
        "outputId": "d70d26f5-8a3b-4ab6-e6e1-43bba488ebb9"
      },
      "execution_count": null,
      "outputs": [
        {
          "output_type": "stream",
          "name": "stdout",
          "text": [
            "1.0\n"
          ]
        }
      ]
    },
    {
      "cell_type": "code",
      "source": [
        "def initial_para(n_neuron):\n",
        "  \n",
        "  n_input=2\n",
        "  n_output=3\n",
        "  W1=np.random.rand(n_neuron,n_input)-0.5\n",
        "  b1=np.random.rand(n_neuron,1)-0.5\n",
        "  W2=np.random.rand(n_output,n_neuron)-0.5\n",
        "  b2=np.random.rand(n_output,1)-0.5\n",
        "  return(W1,W2,b1,b2)"
      ],
      "metadata": {
        "id": "8EfjQxrtUczG"
      },
      "execution_count": null,
      "outputs": []
    },
    {
      "cell_type": "code",
      "source": [
        "def sigmoid(v):\n",
        "  return(1/(1+np.exp(-v)))"
      ],
      "metadata": {
        "id": "hTVwhY9zXfWc"
      },
      "execution_count": null,
      "outputs": []
    },
    {
      "cell_type": "code",
      "source": [
        "# def forward_pass(x):\n",
        "#   W1,W2,b1,b2=initial_para()\n",
        "#   p1=np.dot(W1,x)+b1\n",
        "#   A1=sigmoid(p1)\n",
        "#   p2=np.dot(W2,A1)+b2\n",
        "#   A2=sigmoid(p2)\n",
        "#   return(p1,A1,p2,A2)\n"
      ],
      "metadata": {
        "id": "0MpgD2wSWVHP"
      },
      "execution_count": null,
      "outputs": []
    },
    {
      "cell_type": "code",
      "source": [
        "# def instantaneous_error(error):\n",
        "#   return(0.5*np.sum((error**2)))\n",
        " \n",
        "def inst_error(e):\n",
        "    return sum(0.5*(e)**2)"
      ],
      "metadata": {
        "id": "uXfRSRe_W4fg"
      },
      "execution_count": null,
      "outputs": []
    },
    {
      "cell_type": "code",
      "source": [
        "data_train[0,300]"
      ],
      "metadata": {
        "colab": {
          "base_uri": "https://localhost:8080/"
        },
        "id": "Kb6VJIsPpUb0",
        "outputId": "257b7b1d-cd77-45ff-a777-771ba353176d"
      },
      "execution_count": null,
      "outputs": [
        {
          "output_type": "execute_result",
          "data": {
            "text/plain": [
              "2.0"
            ]
          },
          "metadata": {},
          "execution_count": 24
        }
      ]
    },
    {
      "cell_type": "code",
      "source": [
        "def train_sgd(data_train,nodes):\n",
        "  W1,W2,b1,b2=initial_para(nodes)\n",
        "  #print(W1.shape,W2.shape,b1.shape,b2.shape)\n",
        "  iter=1000\n",
        "  eta=0.1\n",
        "  Error=[]\n",
        "  epoch=[]\n",
        "  y1=[1,0,0]\n",
        "  y2=[0,1,0]\n",
        "  y3=[0,0,1]\n",
        "  y1=np.array(y1)\n",
        "  y1=y1.T\n",
        "  y2=np.array(y2)\n",
        "  y2=y2.T\n",
        "  y3=np.array(y3)\n",
        "  y3=y3.T\n",
        "  for i in range(iter):\n",
        "    E=[]\n",
        "    for j in range(data_train.shape[1]):\n",
        "      x=data_train[1:,j].reshape(2,1)\n",
        "\n",
        "      \n",
        "      p1=np.matmul(W1,x)+b1\n",
        "      #print(p1)\n",
        "      A1=sigmoid(p1)\n",
        "      \n",
        "      \n",
        "      p2=np.matmul(W2,A1)+b2\n",
        "      #print(p2.shape)\n",
        "      A2=sigmoid(p2)\n",
        "      max_index=np.argmax(A2)\n",
        "      # for k in range(A2.shape[0]):\n",
        "      #   if(k==max_index):\n",
        "      #     A2[k]=1\n",
        "      #   else:\n",
        "      #     A2[k]=0\n",
        "      \n",
        "      if(int(data_train[0,j])==1):\n",
        "        error=(A2.T-y1.T).T\n",
        "      elif (int(data_train[0,j])==2):\n",
        "        error=(A2.T-y2.T).T\n",
        "      else:\n",
        "        error=(A2.T-y3.T).T\n",
        "      #print(error)\n",
        "      #print(error.shape)\n",
        "      e=inst_error(error)\n",
        "      \n",
        "      \n",
        "      E.append(e)\n",
        "\n",
        "      dW2=np.matmul(error*A2*(1-A2),A1.T)\n",
        "      W2=W2-eta*dW2\n",
        "      #print(W2[1,0])\n",
        "      \n",
        "      db2=error*A2*(1-A2)\n",
        "      b2=b2-eta*db2\n",
        "      v1=error*A2*(1-A2)\n",
        "      v2=np.matmul(W2.T,v1)\n",
        "      #data_train[1:,j]=data_train[1:,j].reshape(2,1)\n",
        "      dW1=np.matmul(x,v2.T).T\n",
        "      \n",
        "      #dW1=np.matmul(data_train[1:j],np.matmul(np.matmul(np.matmul(error,A2*(1-A2)),W2.T),A1*(A1-1)).T)\n",
        "      W1=W1-eta*dW1\n",
        "      #print(W1.shape)\n",
        "      db1=np.matmul(W2.T,error*A2*(1-A2))*A1*(1-A1)\n",
        "      b1=b1-eta*db1\n",
        "      #print(b1.shape)\n",
        "      #print(b2.shape)\n",
        "    avg_err=sum(E)/len(E)\n",
        "    Error.append(avg_err)\n",
        "    epoch.append(i+1)\n",
        "    #if i%10==0:\n",
        "      #print(\"ERROR:\",avg_err)\n",
        "    \n",
        "  return(W1,W2,b1,b2,Error,epoch)\n",
        "\n"
      ],
      "metadata": {
        "id": "K-GtX0tjYYx5"
      },
      "execution_count": null,
      "outputs": []
    },
    {
      "cell_type": "code",
      "source": [
        "W1,W2,b1,b2,Error,epoch=train_sgd(data_train,2)"
      ],
      "metadata": {
        "id": "2-LjVpQWX1pE",
        "colab": {
          "base_uri": "https://localhost:8080/"
        },
        "outputId": "5e4c353f-a3ce-425b-c0d7-813a82139c45"
      },
      "execution_count": null,
      "outputs": [
        {
          "output_type": "stream",
          "name": "stderr",
          "text": [
            "<ipython-input-21-b587db992c2e>:2: RuntimeWarning: overflow encountered in exp\n",
            "  return(1/(1+np.exp(-v)))\n"
          ]
        }
      ]
    },
    {
      "cell_type": "code",
      "source": [
        "def classifier(W1,W2,b1,b2,data_validation):\n",
        "  output=[]\n",
        "  for i in range(data_validation.shape[1]):\n",
        "    x=data_validation[:,i].reshape(2,1)\n",
        "\n",
        "      \n",
        "    p1=np.matmul(W1,x)+b1\n",
        "      #print(p1)\n",
        "    A1=sigmoid(p1)\n",
        "      \n",
        "      \n",
        "    p2=np.matmul(W2,A1)+b2\n",
        "      #print(p2.shape)\n",
        "    A2=sigmoid(p2)\n",
        "    max_index=np.argmax(A2)\n",
        "    output.append(max_index+1)\n",
        "\n",
        "  return(output)\n"
      ],
      "metadata": {
        "id": "rLA6Bfa9Bzai"
      },
      "execution_count": null,
      "outputs": []
    },
    {
      "cell_type": "code",
      "source": [
        "def each_node_output(W1,W2,W3,b1,b2,b3,data):\n",
        "  l1=np.empty((10,data.shape[1]))\n",
        "  op=np.empty((3,data.shape[1]))\n",
        "  for i in range(data.shape[1]):\n",
        "    x=data[:,i].reshape(2,1)\n",
        "\n",
        "      \n",
        "    p1=np.matmul(W1,x)+b1\n",
        "    \n",
        "  \n",
        "    A1=sigmoid(p1)\n",
        "    \n",
        "      \n",
        "      \n",
        "    p2=np.matmul(W2,A1)+b2\n",
        "      \n",
        "    A2=sigmoid(p2)\n",
        "    \n",
        "    p3=np.matmul(W3,A2)+b3\n",
        "    A3=sigmoid(p3)\n",
        "  \n",
        "    l1[:,i]= A1.flatten()\n",
        "    op[:,i]=A3.flatten()\n",
        "\n",
        "  return(l1,op)\n"
      ],
      "metadata": {
        "id": "H0nIp4F0hm36"
      },
      "execution_count": null,
      "outputs": []
    },
    {
      "cell_type": "code",
      "source": [
        "layer1_node,op=each_node_output(W1,W2,b1,b2,data_test)\n",
        "# print(layer1_node.shape)\n",
        "# r=layer1_node[0,:]\n",
        "print(Data_train.shape)"
      ],
      "metadata": {
        "colab": {
          "base_uri": "https://localhost:8080/",
          "height": 219
        },
        "id": "dXLPt81vhuIG",
        "outputId": "4e43ab6c-4465-4fbd-d506-0c696163d6c7"
      },
      "execution_count": null,
      "outputs": [
        {
          "output_type": "error",
          "ename": "NameError",
          "evalue": "ignored",
          "traceback": [
            "\u001b[0;31m---------------------------------------------------------------------------\u001b[0m",
            "\u001b[0;31mNameError\u001b[0m                                 Traceback (most recent call last)",
            "\u001b[0;32m<ipython-input-63-69e982256015>\u001b[0m in \u001b[0;36m<module>\u001b[0;34m\u001b[0m\n\u001b[0;32m----> 1\u001b[0;31m \u001b[0mlayer1_node\u001b[0m\u001b[0;34m,\u001b[0m\u001b[0mop\u001b[0m\u001b[0;34m=\u001b[0m\u001b[0meach_node_output\u001b[0m\u001b[0;34m(\u001b[0m\u001b[0mW1\u001b[0m\u001b[0;34m,\u001b[0m\u001b[0mW2\u001b[0m\u001b[0;34m,\u001b[0m\u001b[0mb1\u001b[0m\u001b[0;34m,\u001b[0m\u001b[0mb2\u001b[0m\u001b[0;34m,\u001b[0m\u001b[0mdata_test\u001b[0m\u001b[0;34m)\u001b[0m\u001b[0;34m\u001b[0m\u001b[0;34m\u001b[0m\u001b[0m\n\u001b[0m\u001b[1;32m      2\u001b[0m \u001b[0;31m# print(layer1_node.shape)\u001b[0m\u001b[0;34m\u001b[0m\u001b[0;34m\u001b[0m\u001b[0m\n\u001b[1;32m      3\u001b[0m \u001b[0;31m# r=layer1_node[0,:]\u001b[0m\u001b[0;34m\u001b[0m\u001b[0;34m\u001b[0m\u001b[0m\n\u001b[1;32m      4\u001b[0m \u001b[0mprint\u001b[0m\u001b[0;34m(\u001b[0m\u001b[0mData_train\u001b[0m\u001b[0;34m.\u001b[0m\u001b[0mshape\u001b[0m\u001b[0;34m)\u001b[0m\u001b[0;34m\u001b[0m\u001b[0;34m\u001b[0m\u001b[0m\n",
            "\u001b[0;31mNameError\u001b[0m: name 'data_test' is not defined"
          ]
        }
      ]
    },
    {
      "cell_type": "code",
      "source": [
        "layer1_nodeTr,layer2_nodeTr,opTr=each_node_output(W1,W2,W3,b1,b2,b3,Data_train)"
      ],
      "metadata": {
        "id": "hVtdbyKThxav"
      },
      "execution_count": null,
      "outputs": []
    },
    {
      "cell_type": "code",
      "source": [
        "layer1_nodeval,layer2_nodeval,opval=each_node_output(W1,W2,W3,b1,b2,b3,data_validation)"
      ],
      "metadata": {
        "id": "_UPq9-gqh09z"
      },
      "execution_count": null,
      "outputs": []
    },
    {
      "cell_type": "code",
      "source": [
        "#plot of node 1 of layer 1\n",
        "# we have data_test\n",
        "data_validationT=data_validation.T\n",
        "X=data_validationT[:,0]\n",
        "Y=data_validationT[:,1]\n",
        "\n",
        "Z1=layer1_node[0,:]\n",
        "# Z2=layer1_node[1,:]\n",
        "# Z3=layer1_node[2,:]"
      ],
      "metadata": {
        "id": "usKQCnImh6Ms"
      },
      "execution_count": null,
      "outputs": []
    },
    {
      "cell_type": "code",
      "source": [
        "j=0\n",
        "#Z=opTr[i,:]\n",
        "fig, ax = plt.subplots(1,3,figsize=(10,10),subplot_kw=dict(projection='3d'))\n",
        "for i in [5,7,9]:\n",
        "  sc1 = ax[j].scatter(X, Y,layer2_nodeval[i,:],edgecolors=\"orange\")\n",
        "  ax[j].set_title('layer2 node  {} for validation'.format(i+1))\n",
        "  j=j+1\n"
      ],
      "metadata": {
        "id": "m3fYx4SAh7Hq"
      },
      "execution_count": null,
      "outputs": []
    },
    {
      "cell_type": "code",
      "source": [
        "plt.plot(epoch,Error)"
      ],
      "metadata": {
        "colab": {
          "base_uri": "https://localhost:8080/",
          "height": 282
        },
        "id": "6A7XGFlG-fg4",
        "outputId": "1bfdb5bc-6eb1-40f7-cdbe-536cb35646d9"
      },
      "execution_count": null,
      "outputs": [
        {
          "output_type": "execute_result",
          "data": {
            "text/plain": [
              "[<matplotlib.lines.Line2D at 0x7f05482f0d00>]"
            ]
          },
          "metadata": {},
          "execution_count": 52
        },
        {
          "output_type": "display_data",
          "data": {
            "text/plain": [
              "<Figure size 432x288 with 1 Axes>"
            ],
            "image/png": "[encoded data removed]"
          },
          "metadata": {
            "needs_background": "light"
          }
        }
      ]
    },
    {
      "cell_type": "code",
      "source": [
        "val=classifier(W1,W2,b1,b2,data_validation)"
      ],
      "metadata": {
        "id": "pts3Oh7bEIou",
        "colab": {
          "base_uri": "https://localhost:8080/"
        },
        "outputId": "99c1a8f4-c30b-4b3e-9588-d5be497699b4"
      },
      "execution_count": null,
      "outputs": [
        {
          "output_type": "stream",
          "name": "stderr",
          "text": [
            "<ipython-input-21-b587db992c2e>:2: RuntimeWarning: overflow encountered in exp\n",
            "  return(1/(1+np.exp(-v)))\n"
          ]
        }
      ]
    },
    {
      "cell_type": "code",
      "source": [
        "gt_v=gt_v.flatten()\n"
      ],
      "metadata": {
        "id": "0dfAfjh-GxJO"
      },
      "execution_count": null,
      "outputs": []
    },
    {
      "cell_type": "code",
      "source": [
        "from sklearn.metrics import confusion_matrix\n",
        "cm=confusion_matrix(gt_v, val)"
      ],
      "metadata": {
        "id": "LYOH5qpAFJfK"
      },
      "execution_count": null,
      "outputs": []
    },
    {
      "cell_type": "code",
      "source": [
        "print(cm)"
      ],
      "metadata": {
        "colab": {
          "base_uri": "https://localhost:8080/"
        },
        "id": "E-Z6qdDbH5J6",
        "outputId": "f10a8aa5-fd1d-4733-fb11-ed38d9c0aba3"
      },
      "execution_count": null,
      "outputs": [
        {
          "output_type": "stream",
          "name": "stdout",
          "text": [
            "[[100   0   0]\n",
            " [  0 100   0]\n",
            " [  0   0 100]]\n"
          ]
        }
      ]
    },
    {
      "cell_type": "code",
      "source": [
        "accuracy=((cm[0,0]+cm[1,1]+cm[2,2])/(len(val)))*100\n",
        "print(\"Accuracy:{} %\".format(accuracy))"
      ],
      "metadata": {
        "colab": {
          "base_uri": "https://localhost:8080/"
        },
        "id": "nNryw78uHzvy",
        "outputId": "cc7b2d00-3d70-4820-c54e-1c96a3051cdd"
      },
      "execution_count": null,
      "outputs": [
        {
          "output_type": "stream",
          "name": "stdout",
          "text": [
            "Accuracy:100.0 %\n"
          ]
        }
      ]
    },
    {
      "cell_type": "code",
      "source": [
        "data_class1_validation=data_class1_validation.T\n",
        "data_class2_validation=data_class2_validation.T\n",
        "data_class3_validation=data_class3_validation.T\n",
        "print(data_class1_validation.shape)"
      ],
      "metadata": {
        "colab": {
          "base_uri": "https://localhost:8080/"
        },
        "id": "WhueMPeHNpnI",
        "outputId": "bb17986b-d472-47e4-8a06-8f6d65684eed"
      },
      "execution_count": null,
      "outputs": [
        {
          "output_type": "stream",
          "name": "stdout",
          "text": [
            "(100, 2)\n"
          ]
        }
      ]
    },
    {
      "cell_type": "code",
      "source": [
        "x_arr = np.linspace(np.min(data_validation.T[:, 0]), np.max(data_validation.T[:, 0]), 1000)\n",
        "y_arr = np.linspace(np.min(data_validation.T[:, 1]), np.max(data_validation.T[:, 1]), 1000)\n",
        "xx, yy = np.meshgrid(x_arr, y_arr)\n",
        "region = np.concatenate((xx.reshape((-1,1)), yy.reshape((-1,1))), axis=1)\n",
        "mf = region\n"
      ],
      "metadata": {
        "id": "OyL3PVPM9BAr"
      },
      "execution_count": null,
      "outputs": []
    },
    {
      "cell_type": "code",
      "source": [
        "z=classifier(W1,W2,b1,b2,mf.T)\n",
        "z=np.array(z)\n",
        "z = z.reshape(xx.shape)"
      ],
      "metadata": {
        "id": "gTaGVpZ5NBx6",
        "colab": {
          "base_uri": "https://localhost:8080/"
        },
        "outputId": "e9d67763-a078-4547-8d0c-d3d5dde29dfb"
      },
      "execution_count": null,
      "outputs": [
        {
          "output_type": "stream",
          "name": "stderr",
          "text": [
            "<ipython-input-21-b587db992c2e>:2: RuntimeWarning: overflow encountered in exp\n",
            "  return(1/(1+np.exp(-v)))\n"
          ]
        }
      ]
    },
    {
      "cell_type": "code",
      "source": [
        "plt.scatter(data_class1_validation[:, 0],data_class1_validation[:, 1],label=\"class-1\",)\n",
        "plt.scatter(data_class2_validation[:, 0],data_class2_validation[:, 1],label=\"class-2\",)\n",
        "plt.scatter(data_class3_validation[:, 0],data_class3_validation[:, 1],label=\"class-3\",)\n",
        "plt.legend(loc =\"lower right\")"
      ],
      "metadata": {
        "colab": {
          "base_uri": "https://localhost:8080/",
          "height": 282
        },
        "id": "qczSP-FDOla-",
        "outputId": "93b28700-55f8-464e-f02f-599e95683944"
      },
      "execution_count": null,
      "outputs": [
        {
          "output_type": "execute_result",
          "data": {
            "text/plain": [
              "<matplotlib.legend.Legend at 0x7f0548950fd0>"
            ]
          },
          "metadata": {},
          "execution_count": 37
        },
        {
          "output_type": "display_data",
          "data": {
            "text/plain": [
              "<Figure size 432x288 with 1 Axes>"
            ],
            "image/png": "[encoded data removed]"
          },
          "metadata": {
            "needs_background": "light"
          }
        }
      ]
    },
    {
      "cell_type": "code",
      "source": [
        "plt.title(\"boundary between all 3 classes\")\n",
        "plt.contourf(xx, yy, z, alpha=0.3, cmap=\"rainbow\")\n",
        "plt.scatter(data_class1_validation[:, 0],data_class1_validation[:, 1],label=\"class-1\",)\n",
        "plt.scatter(data_class2_validation[:, 0],data_class2_validation[:, 1],label=\"class-2\",)\n",
        "plt.scatter(data_class3_validation[:, 0],data_class3_validation[:, 1],label=\"class-3\",)\n",
        "plt.legend(loc =\"lower right\")\n",
        "#plt.scatter(data_class3_validation[:, 0],data_class3_validation[:, 1],label=\"class-1\",)"
      ],
      "metadata": {
        "colab": {
          "base_uri": "https://localhost:8080/",
          "height": 298
        },
        "id": "BmkSFZAINNIH",
        "outputId": "741cc761-60f4-4ce9-e4d5-cb15490a6757"
      },
      "execution_count": null,
      "outputs": [
        {
          "output_type": "execute_result",
          "data": {
            "text/plain": [
              "<matplotlib.legend.Legend at 0x7f05485c3850>"
            ]
          },
          "metadata": {},
          "execution_count": 38
        },
        {
          "output_type": "display_data",
          "data": {
            "text/plain": [
              "<Figure size 432x288 with 1 Axes>"
            ],
            "image/png": "[encoded data removed]"
          },
          "metadata": {
            "needs_background": "light"
          }
        }
      ]
    }
  ]
}