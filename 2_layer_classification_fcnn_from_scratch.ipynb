{
  "nbformat": 4,
  "nbformat_minor": 0,
  "metadata": {
    "colab": {
      "provenance": [],
      "authorship_tag": "ABX9TyN2y9+WsSv3LU7SxJy5wT7s",
      "include_colab_link": true
    },
    "kernelspec": {
      "name": "python3",
      "display_name": "Python 3"
    },
    "language_info": {
      "name": "python"
    }
  },
  "cells": [
    {
      "cell_type": "markdown",
      "metadata": {
        "id": "view-in-github",
        "colab_type": "text"
      },
      "source": [
        "<a href=\"https://colab.research.google.com/github/sandhyajnv/Deep-Learning-/blob/main/2_layer_classification_fcnn_from_scratch.ipynb\" target=\"_parent\"><img src=\"https://colab.research.google.com/assets/colab-badge.svg\" alt=\"Open In Colab\"/></a>"
      ]
    },
    {
      "cell_type": "code",
      "execution_count": null,
      "metadata": {
        "id": "g0Bju9yR75T8"
      },
      "outputs": [],
      "source": [
        "import pandas as pd\n",
        "from matplotlib import pyplot as plt\n",
        "import numpy as np"
      ]
    },
    {
      "cell_type": "code",
      "source": [
        "from google.colab import drive\n",
        "drive.mount('/content/drive')"
      ],
      "metadata": {
        "colab": {
          "base_uri": "https://localhost:8080/"
        },
        "id": "9ywmBnl7QZGb",
        "outputId": "63e5f388-11c1-4b03-c69d-7929714fc903"
      },
      "execution_count": null,
      "outputs": [
        {
          "output_type": "stream",
          "name": "stdout",
          "text": [
            "Mounted at /content/drive\n"
          ]
        }
      ]
    },
    {
      "cell_type": "code",
      "source": [
        "my_file = open(\"/content/drive/MyDrive/NLS_Group11.txt\", \"r\")\n",
        "data = my_file.read()\n",
        "data_into_list = data.split(\"\\n\")\n",
        "data_into_list=data_into_list[1:]"
      ],
      "metadata": {
        "id": "720ttjw8QaEJ"
      },
      "execution_count": null,
      "outputs": []
    },
    {
      "cell_type": "code",
      "source": [
        "new=[]\n",
        "\n",
        "for i in range(len(data_into_list[:-1])):\n",
        "  a=data_into_list[i]\n",
        "  a=a.split(\" \")\n",
        "  a=a[:2]\n",
        "  a=np.array(a)\n",
        "  a=np.float_(a)\n",
        "  a=list(a)\n",
        "  new.append(a)\n",
        "\n",
        "data=np.array(new)"
      ],
      "metadata": {
        "id": "VaHTE1DwQdiT"
      },
      "execution_count": null,
      "outputs": []
    },
    {
      "cell_type": "code",
      "source": [
        "data_class1=data[:500]\n",
        "data_class2=data[500:1000]\n",
        "data_class3=data[1000:1700]"
      ],
      "metadata": {
        "id": "hQZpvhjNQh0b"
      },
      "execution_count": null,
      "outputs": []
    },
    {
      "cell_type": "code",
      "source": [
        "data_class1_train=data_class1[:300].T\n",
        "data_class1_validation=data_class1[300:400].T\n",
        "\n",
        "data_class1_test=data_class1[400:].T"
      ],
      "metadata": {
        "id": "tQtp3zbVQkud"
      },
      "execution_count": null,
      "outputs": []
    },
    {
      "cell_type": "code",
      "source": [
        "data_class2_train=data_class2[:300].T\n",
        "data_class2_validation=data_class2[300:400].T\n",
        "data_class2_test=data_class2[400:].T"
      ],
      "metadata": {
        "id": "sQvyvWRnQnsq"
      },
      "execution_count": null,
      "outputs": []
    },
    {
      "cell_type": "code",
      "source": [
        "data_class3_train=data_class3[:420].T\n",
        "data_class3_validation=data_class3[420:560].T\n",
        "data_class3_test=data_class3[560:].T"
      ],
      "metadata": {
        "id": "KnViqxLDQqlC"
      },
      "execution_count": null,
      "outputs": []
    },
    {
      "cell_type": "code",
      "source": [
        "data_train=np.concatenate((data_class1_train,data_class2_train,data_class3_train),axis=1)"
      ],
      "metadata": {
        "id": "ljSwiFFaQtlV"
      },
      "execution_count": null,
      "outputs": []
    },
    {
      "cell_type": "code",
      "source": [
        "Data_train=data_train"
      ],
      "metadata": {
        "id": "eSqdEZ1Y2U4I"
      },
      "execution_count": null,
      "outputs": []
    },
    {
      "cell_type": "code",
      "source": [
        "data_validation=np.concatenate((data_class1_validation,data_class2_validation,data_class3_validation),axis=1)"
      ],
      "metadata": {
        "id": "ROejQIFVQxuK"
      },
      "execution_count": null,
      "outputs": []
    },
    {
      "cell_type": "code",
      "source": [
        "print(Data_train.shape)"
      ],
      "metadata": {
        "colab": {
          "base_uri": "https://localhost:8080/"
        },
        "id": "-klMw-gi9sBk",
        "outputId": "dd9f641a-9ed8-4d55-9579-44a0cdc5f5f5"
      },
      "execution_count": null,
      "outputs": [
        {
          "output_type": "stream",
          "name": "stdout",
          "text": [
            "(2, 1020)\n"
          ]
        }
      ]
    },
    {
      "cell_type": "code",
      "source": [
        "data_test=np.concatenate((data_class1_test,data_class2_test,data_class3_test),axis=1)"
      ],
      "metadata": {
        "id": "fzfRki0C5fuf"
      },
      "execution_count": null,
      "outputs": []
    },
    {
      "cell_type": "code",
      "source": [
        "# 300,300,420\n",
        "gt1=np.int_(np.ones((1,300)))\n",
        "gt2=np.int_(2*np.ones((1,300)))\n",
        "gt3=np.int_(3*np.ones((1,420)))\n",
        "gt=np.concatenate((gt1,gt2,gt3),axis=1)\n",
        "\n",
        "print(gt.shape)\n"
      ],
      "metadata": {
        "colab": {
          "base_uri": "https://localhost:8080/"
        },
        "id": "Py9vGzMWQ24D",
        "outputId": "ca574fe8-21ed-4a90-9ba8-12ba1f039037"
      },
      "execution_count": null,
      "outputs": [
        {
          "output_type": "stream",
          "name": "stdout",
          "text": [
            "(1, 1020)\n"
          ]
        }
      ]
    },
    {
      "cell_type": "code",
      "source": [
        "# 100,100,140\n",
        "gt1_v=np.int_(np.ones((1,100)))\n",
        "gt2_v=np.int_(2*np.ones((1,100)))\n",
        "gt3_v=np.int_(3*np.ones((1,140)))\n",
        "gt_v=np.concatenate((gt1_v,gt2_v,gt3_v),axis=1)\n",
        "print(gt_v.shape)"
      ],
      "metadata": {
        "colab": {
          "base_uri": "https://localhost:8080/"
        },
        "id": "FuGi7beNQ9HS",
        "outputId": "8888c5f8-fd82-4a9e-b5b6-d42ce80d91a6"
      },
      "execution_count": null,
      "outputs": [
        {
          "output_type": "stream",
          "name": "stdout",
          "text": [
            "(1, 340)\n"
          ]
        }
      ]
    },
    {
      "cell_type": "code",
      "source": [
        "data_train=np.concatenate((gt,data_train),axis=0)"
      ],
      "metadata": {
        "id": "_TmL0SlNREYq"
      },
      "execution_count": null,
      "outputs": []
    },
    {
      "cell_type": "code",
      "source": [
        "def initial_para(n_neuron):\n",
        "  \n",
        "  n_input=2\n",
        "  n_output=3\n",
        "  W1=np.random.rand(n_neuron,n_input)-0.5\n",
        "  b1=np.random.rand(n_neuron,1)-0.5\n",
        "  W2=np.random.rand(n_neuron,n_neuron)-0.5\n",
        "  b2=np.random.rand(n_neuron,1)-0.5\n",
        "  W3=np.random.rand(n_output,n_neuron)-0.5\n",
        "  b3=np.random.rand(n_output,1)-0.5\n",
        "  \n",
        "  return(W1,W2,W3,b1,b2,b3)"
      ],
      "metadata": {
        "id": "AJpK8r7tRHx7"
      },
      "execution_count": null,
      "outputs": []
    },
    {
      "cell_type": "code",
      "source": [
        "def sigmoid(v):\n",
        "  return(1/(1+np.exp(-v)))"
      ],
      "metadata": {
        "id": "0g9WhFDjRMDt"
      },
      "execution_count": null,
      "outputs": []
    },
    {
      "cell_type": "code",
      "source": [
        "def inst_error(e):\n",
        "    return sum(0.5*(e)**2)"
      ],
      "metadata": {
        "id": "8w4RWNe0RPHU"
      },
      "execution_count": null,
      "outputs": []
    },
    {
      "cell_type": "code",
      "source": [
        "def train_sgd(data_train,nodes):\n",
        "  W1,W2,W3,b1,b2,b3=initial_para(nodes)\n",
        "  \n",
        "  #print(W1.shape,W2.shape,b1.shape,b2.shape)\n",
        "  iter=1000\n",
        "  eta=0.1\n",
        "  Error=[]\n",
        "  epoch=[]\n",
        "  y1=[1,0,0]\n",
        "  y2=[0,1,0]\n",
        "  y3=[0,0,1]\n",
        "  y1=np.array(y1)\n",
        "  y1=y1.T\n",
        "  y2=np.array(y2)\n",
        "  y2=y2.T\n",
        "  y3=np.array(y3)\n",
        "  y3=y3.T\n",
        "  for i in range(iter):\n",
        "    E=[]\n",
        "    for j in range(data_train.shape[1]):\n",
        "      x=data_train[1:,j].reshape(2,1)\n",
        "\n",
        "      \n",
        "      p1=np.matmul(W1,x)+b1\n",
        "      #print(p1)\n",
        "      A1=sigmoid(p1)\n",
        "      \n",
        "      \n",
        "      p2=np.matmul(W2,A1)+b2\n",
        "      #print(p2.shape)\n",
        "      A2=sigmoid(p2)\n",
        "      p3=np.matmul(W3,A2)+b3\n",
        "      A3=sigmoid(p3)\n",
        "      max_index=np.argmax(A2)\n",
        "      # for k in range(A2.shape[0]):\n",
        "      #   if(k==max_index):\n",
        "      #     A2[k]=1\n",
        "      #   else:\n",
        "      #     A2[k]=0\n",
        "      \n",
        "      if(int(data_train[0,j])==1):\n",
        "        error=(A3.T-y1.T).T\n",
        "      elif (int(data_train[0,j])==2):\n",
        "        error=(A3.T-y2.T).T\n",
        "      else:\n",
        "        error=(A3.T-y3.T).T\n",
        "      #print(error)\n",
        "      #print(error.shape)\n",
        "      e=inst_error(error)\n",
        "      \n",
        "      \n",
        "      E.append(e)\n",
        "      v1=error*A3*(1-A3)\n",
        "      dW3=np.matmul(v1,A2.T)\n",
        "      W3=W3-eta*dW3\n",
        "      #print(W2[1,0])\n",
        "      v2=np.matmul(W3.T,v1)\n",
        "      v3=v2*A2*(1-A2)\n",
        "      dW2=np.matmul(v3,A1.T)\n",
        "      W2=W2-eta*dW2\n",
        "      v4=np.matmul(W2,v3)\n",
        "      v5=v4*A1*(1-A1)\n",
        "      dW1=np.matmul(v5,x.T)\n",
        "      W1=W1-eta*dW1\n",
        "      db3=v1\n",
        "      b3=b3-eta*db3\n",
        "      db2=np.matmul(W3.T,db3)*A2*(1-A2)\n",
        "      b2=b2-eta*db2\n",
        "      db1=db2*np.matmul(W2,A1*(1-A1))\n",
        "      b1=b1-eta*db1\n",
        "      \n",
        "     \n",
        "    avg_err=sum(E)/len(E)\n",
        "    Error.append(avg_err)\n",
        "    epoch.append(i+1)\n",
        "    #if i%10==0:\n",
        "      #print(\"ERROR:\",avg_err)\n",
        "    \n",
        "  return(W1,W2,W3,b1,b2,b3,Error,epoch)"
      ],
      "metadata": {
        "id": "izgHwsMORSwU"
      },
      "execution_count": null,
      "outputs": []
    },
    {
      "cell_type": "code",
      "source": [
        "W1,W2,W3,b1,b2,b3,Error,epoch=train_sgd(data_train,10)"
      ],
      "metadata": {
        "id": "kCjqk20hRdcs"
      },
      "execution_count": null,
      "outputs": []
    },
    {
      "cell_type": "code",
      "source": [
        "def classifier(W1,W2,W3,b1,b2,b3,data):\n",
        "  output=[]\n",
        "  for i in range(data.shape[1]):\n",
        "    x=data[:,i].reshape(2,1)\n",
        "\n",
        "      \n",
        "    p1=np.matmul(W1,x)+b1\n",
        "      #print(p1)\n",
        "    A1=sigmoid(p1)\n",
        "      \n",
        "      \n",
        "    p2=np.matmul(W2,A1)+b2\n",
        "      #print(p2.shape)\n",
        "    A2=sigmoid(p2)\n",
        "    p3=np.matmul(W3,A2)+b3\n",
        "    A3=sigmoid(p3)\n",
        "    max_index=np.argmax(A3)\n",
        "    output.append(max_index+1)\n",
        "\n",
        "  return(output)"
      ],
      "metadata": {
        "id": "C1GRHivxRgwl"
      },
      "execution_count": null,
      "outputs": []
    },
    {
      "cell_type": "code",
      "source": [
        "def each_node_output(W1,W2,W3,b1,b2,b3,data):\n",
        "  l2=np.empty((10,data.shape[1]))\n",
        "  l1=np.empty((10,data.shape[1]))\n",
        "  op=np.empty((3,data.shape[1]))\n",
        "  for i in range(data.shape[1]):\n",
        "    x=data[:,i].reshape(2,1)\n",
        "\n",
        "      \n",
        "    p1=np.matmul(W1,x)+b1\n",
        "    \n",
        "  \n",
        "    A1=sigmoid(p1)\n",
        "    \n",
        "      \n",
        "      \n",
        "    p2=np.matmul(W2,A1)+b2\n",
        "      \n",
        "    A2=sigmoid(p2)\n",
        "    \n",
        "    p3=np.matmul(W3,A2)+b3\n",
        "    A3=sigmoid(p3)\n",
        "  \n",
        "    l1[:,i]= A1.flatten()\n",
        "    l2[:,i]=A2.flatten()\n",
        "    op[:,i]=A3.flatten()\n",
        "\n",
        "  return(l1,l2,op)\n",
        "\n",
        "\n",
        "\n",
        "\n"
      ],
      "metadata": {
        "id": "Ek5vQOMwhxHn"
      },
      "execution_count": null,
      "outputs": []
    },
    {
      "cell_type": "code",
      "source": [
        "layer1_node,layer2_node,op=each_node_output(W1,W2,W3,b1,b2,b3,data_test)\n",
        "# print(layer1_node.shape)\n",
        "# r=layer1_node[0,:]\n",
        "print(Data_train.shape)"
      ],
      "metadata": {
        "id": "AqZc84M3z0kN",
        "colab": {
          "base_uri": "https://localhost:8080/"
        },
        "outputId": "18f6c985-e840-4967-cdc2-27bde8fb591f"
      },
      "execution_count": null,
      "outputs": [
        {
          "output_type": "stream",
          "name": "stdout",
          "text": [
            "(2, 1020)\n"
          ]
        }
      ]
    },
    {
      "cell_type": "code",
      "source": [
        "layer1_nodeTr,layer2_nodeTr,opTr=each_node_output(W1,W2,W3,b1,b2,b3,Data_train)"
      ],
      "metadata": {
        "id": "G2y9R6nU2ns-"
      },
      "execution_count": null,
      "outputs": []
    },
    {
      "cell_type": "code",
      "source": [
        "layer1_nodeval,layer2_nodeval,opval=each_node_output(W1,W2,W3,b1,b2,b3,data_validation)"
      ],
      "metadata": {
        "id": "MIEsSSuyUIzw"
      },
      "execution_count": null,
      "outputs": []
    },
    {
      "cell_type": "code",
      "source": [
        "#plot of node 1 of layer 1\n",
        "# we have data_test\n",
        "data_validationT=data_validation.T\n",
        "X=data_validationT[:,0]\n",
        "Y=data_validationT[:,1]\n",
        "\n",
        "Z1=layer1_node[0,:]\n",
        "# Z2=layer1_node[1,:]\n",
        "# Z3=layer1_node[2,:]\n"
      ],
      "metadata": {
        "id": "s8LXbCe5fKvJ"
      },
      "execution_count": null,
      "outputs": []
    },
    {
      "cell_type": "code",
      "source": [
        "%matplotlib inline\n",
        "import numpy as np\n",
        "import matplotlib.pyplot as plt"
      ],
      "metadata": {
        "id": "kOLe_fqCUWVk"
      },
      "execution_count": null,
      "outputs": []
    },
    {
      "cell_type": "code",
      "source": [
        "#0 1 3 4 9 10 11 15 16 17 l1\n",
        "#3 5 9 12 16 l2\n",
        "\n",
        "j=0\n",
        "#Z=opTr[i,:]\n",
        "fig, ax = plt.subplots(1,3,figsize=(10,10),subplot_kw=dict(projection='3d'))\n",
        "for i in [5,7,9]:\n",
        "  sc1 = ax[j].scatter(X, Y,layer2_nodeval[i,:],edgecolors=\"orange\")\n",
        "  ax[j].set_title('layer2 node  {} for validation'.format(i+1))\n",
        "  j=j+1\n",
        "\n",
        "# sc2 = ax[1].scatter(X, Y, Z,\"blue\")\n",
        "# ax[1].set_title('layer 1 node 2')\n",
        "\n"
      ],
      "metadata": {
        "colab": {
          "base_uri": "https://localhost:8080/",
          "height": 222
        },
        "id": "IGEIocFGXpJ5",
        "outputId": "37588f4f-5bac-4086-bfae-a4d8115e40e2"
      },
      "execution_count": null,
      "outputs": [
        {
          "output_type": "display_data",
          "data": {
            "text/plain": [
              "<Figure size 720x720 with 3 Axes>"
            ],
            "image/png": "[encoded data removed]"
          },
          "metadata": {
            "needs_background": "light"
          }
        }
      ]
    },
    {
      "cell_type": "code",
      "source": [
        "plt.title(\"Error vs Epoch\")\n",
        "plt.xlabel(\"epoch\")\n",
        "plt.ylabel(\"error\")\n",
        "plt.plot(epoch,Error)"
      ],
      "metadata": {
        "colab": {
          "base_uri": "https://localhost:8080/",
          "height": 312
        },
        "id": "UJ722zn0RkLq",
        "outputId": "458441a0-58ba-400c-e6b1-bb4fce8022d6"
      },
      "execution_count": null,
      "outputs": [
        {
          "output_type": "execute_result",
          "data": {
            "text/plain": [
              "[<matplotlib.lines.Line2D at 0x7f2b936e50d0>]"
            ]
          },
          "metadata": {},
          "execution_count": 65
        },
        {
          "output_type": "display_data",
          "data": {
            "text/plain": [
              "<Figure size 432x288 with 1 Axes>"
            ],
            "image/png": "[encoded data removed]"
          },
          "metadata": {
            "needs_background": "light"
          }
        }
      ]
    },
    {
      "cell_type": "code",
      "source": [
        "print(data_validation.shape)"
      ],
      "metadata": {
        "colab": {
          "base_uri": "https://localhost:8080/"
        },
        "id": "SaPnSpQd98Ci",
        "outputId": "ba93d304-8dd1-44ac-8132-8e6e4aa04f3b"
      },
      "execution_count": null,
      "outputs": [
        {
          "output_type": "stream",
          "name": "stdout",
          "text": [
            "(2, 340)\n"
          ]
        }
      ]
    },
    {
      "cell_type": "code",
      "source": [
        "val=classifier(W1,W2,W3,b1,b2,b3,data_validation)"
      ],
      "metadata": {
        "id": "d6WGSC0MRmpZ"
      },
      "execution_count": null,
      "outputs": []
    },
    {
      "cell_type": "code",
      "source": [
        "gt_v=gt_v.flatten()"
      ],
      "metadata": {
        "id": "t5cWvDYLRphL"
      },
      "execution_count": null,
      "outputs": []
    },
    {
      "cell_type": "code",
      "source": [
        "from sklearn.metrics import confusion_matrix\n",
        "cm=confusion_matrix(gt_v, val)"
      ],
      "metadata": {
        "id": "Ld0tKyD6RsAx"
      },
      "execution_count": null,
      "outputs": []
    },
    {
      "cell_type": "code",
      "source": [
        "print(cm)"
      ],
      "metadata": {
        "colab": {
          "base_uri": "https://localhost:8080/"
        },
        "id": "QLgpI4DdRvla",
        "outputId": "fbd33e09-f59d-4ff6-85ca-78f37f2c68da"
      },
      "execution_count": null,
      "outputs": [
        {
          "output_type": "stream",
          "name": "stdout",
          "text": [
            "[[100   0   0]\n",
            " [  0 100   0]\n",
            " [  0   0 140]]\n"
          ]
        }
      ]
    },
    {
      "cell_type": "code",
      "source": [
        "accuracy=((cm[0,0]+cm[1,1]+cm[2,2])/(len(val)))*100\n",
        "print(\"Accuracy:{} %\".format(accuracy))"
      ],
      "metadata": {
        "colab": {
          "base_uri": "https://localhost:8080/"
        },
        "id": "wvlCckODRyeJ",
        "outputId": "0416a48c-9a2c-4773-d1ff-d98d659ef4d1"
      },
      "execution_count": null,
      "outputs": [
        {
          "output_type": "stream",
          "name": "stdout",
          "text": [
            "Accuracy:100.0 %\n"
          ]
        }
      ]
    },
    {
      "cell_type": "code",
      "source": [
        "x_arr = np.linspace(-3, 3, 1000)\n",
        "y_arr = np.linspace(-3, 3, 1000)\n",
        "xx, yy = np.meshgrid(x_arr, y_arr)\n",
        "region = np.concatenate((xx.reshape((-1,1)), yy.reshape((-1,1))), axis=1)\n",
        "mf = region\n"
      ],
      "metadata": {
        "id": "eDG2cw8iR1Ie"
      },
      "execution_count": null,
      "outputs": []
    },
    {
      "cell_type": "code",
      "source": [
        "z=classifier(W1,W2,W3,b1,b2,b3,mf.T)\n",
        "z=np.array(z)\n",
        "z = z.reshape(xx.shape)"
      ],
      "metadata": {
        "id": "_w0w-iuGR30S"
      },
      "execution_count": null,
      "outputs": []
    },
    {
      "cell_type": "code",
      "source": [
        "data_class1_validation=data_class1_validation.T\n",
        "data_class2_validation=data_class2_validation.T\n",
        "data_class3_validation=data_class3_validation.T\n",
        "print(data_class1_validation.shape)"
      ],
      "metadata": {
        "id": "nclVqJqrR-LU"
      },
      "execution_count": null,
      "outputs": []
    },
    {
      "cell_type": "code",
      "source": [
        "plt.title(\"plotting validation data\")\n",
        "plt.scatter(data_class1_validation[:, 0],data_class1_validation[:, 1],label=\"class-1\",)\n",
        "plt.scatter(data_class2_validation[:, 0],data_class2_validation[:, 1],label=\"class-2\",)\n",
        "plt.scatter(data_class3_validation[:, 0],data_class3_validation[:, 1],label=\"class-3\",)\n",
        "plt.legend(loc =\"lower right\")"
      ],
      "metadata": {
        "id": "NzlNPhb4SAxy"
      },
      "execution_count": null,
      "outputs": []
    },
    {
      "cell_type": "code",
      "source": [
        "plt.title(\"boundary between all 3 classes for validation data\")\n",
        "plt.contourf(xx, yy, z, alpha=0.3, cmap=\"rainbow\")\n",
        "plt.scatter(data_class1_validation[:, 0],data_class1_validation[:, 1],label=\"class-1\",)\n",
        "plt.scatter(data_class2_validation[:, 0],data_class2_validation[:, 1],label=\"class-2\",)\n",
        "plt.scatter(data_class3_validation[:, 0],data_class3_validation[:, 1],label=\"class-3\",)\n",
        "plt.legend(loc =\"lower right\")\n",
        "#plt.scatter(data_class3_validation[:, 0],data_class3_validation[:, 1],label=\"class-1\",)"
      ],
      "metadata": {
        "id": "xXHqJLjBSBiw"
      },
      "execution_count": null,
      "outputs": []
    },
    {
      "cell_type": "code",
      "source": [
        "data_class1_test=data_class1_test.T\n",
        "data_class2_test=data_class2_test.T\n",
        "data_class3_test=data_class3_test.T\n",
        "print(data_class1_test.shape)"
      ],
      "metadata": {
        "id": "6bFz89DRgNQw"
      },
      "execution_count": null,
      "outputs": []
    },
    {
      "cell_type": "code",
      "source": [
        "plt.title(\"plotting test data\")\n",
        "plt.scatter(data_class1_test[:, 0],data_class1_test[:, 1],label=\"class-1\",)\n",
        "plt.scatter(data_class2_test[:, 0],data_class2_test[:, 1],label=\"class-2\",)\n",
        "plt.scatter(data_class3_test[:, 0],data_class3_test[:, 1],label=\"class-3\",)\n",
        "plt.legend(loc =\"lower right\")"
      ],
      "metadata": {
        "id": "fqG3lyyaavfC"
      },
      "execution_count": null,
      "outputs": []
    },
    {
      "cell_type": "code",
      "source": [
        "plt.title(\"boundary between all 3 classes for test data\")\n",
        "plt.contourf(xx, yy, z, alpha=0.3, cmap=\"rainbow\")\n",
        "plt.scatter(data_class1_test[:, 0],data_class1_test[:, 1],label=\"class-1\",)\n",
        "plt.scatter(data_class2_test[:, 0],data_class2_test[:, 1],label=\"class-2\",)\n",
        "plt.scatter(data_class3_test[:, 0],data_class3_test[:, 1],label=\"class-3\",)\n",
        "plt.legend(loc =\"lower right\")\n",
        "#plt.scatter(data_class3_test[:, 0],data_class3_test[:, 1],label=\"class-1\",)"
      ],
      "metadata": {
        "id": "9wWwueDneHag"
      },
      "execution_count": null,
      "outputs": []
    },
    {
      "cell_type": "code",
      "source": [
        "data_class1_train=data_class1_train.T\n",
        "data_class2_train=data_class2_train.T\n",
        "data_class3_train=data_class3_train.T\n",
        "print(data_class1_train.shape)"
      ],
      "metadata": {
        "colab": {
          "base_uri": "https://localhost:8080/"
        },
        "id": "SPVqtGjYXYTO",
        "outputId": "dc5efc36-3454-48b2-fe22-f5093a62e82c"
      },
      "execution_count": null,
      "outputs": [
        {
          "output_type": "stream",
          "name": "stdout",
          "text": [
            "(300, 2)\n"
          ]
        }
      ]
    },
    {
      "cell_type": "code",
      "source": [
        "plt.title(\"plotting training data\")\n",
        "plt.scatter(data_class1_train[:, 0],data_class1_train[:, 1],label=\"class-1\",)\n",
        "plt.scatter(data_class2_train[:, 0],data_class2_train[:, 1],label=\"class-2\",)\n",
        "plt.scatter(data_class3_train[:, 0],data_class3_train[:, 1],label=\"class-3\",)\n",
        "plt.legend(loc =\"lower right\")"
      ],
      "metadata": {
        "colab": {
          "base_uri": "https://localhost:8080/",
          "height": 298
        },
        "id": "ZdjydY_zX2VW",
        "outputId": "9836edc8-1260-46ce-e96c-b514ec540364"
      },
      "execution_count": null,
      "outputs": [
        {
          "output_type": "execute_result",
          "data": {
            "text/plain": [
              "<matplotlib.legend.Legend at 0x7f2b91d98580>"
            ]
          },
          "metadata": {},
          "execution_count": 74
        },
        {
          "output_type": "display_data",
          "data": {
            "text/plain": [
              "<Figure size 432x288 with 1 Axes>"
            ],
            "image/png": "[encoded data removed]"
          },
          "metadata": {
            "needs_background": "light"
          }
        }
      ]
    },
    {
      "cell_type": "code",
      "source": [
        "plt.title(\"boundary between all 3 classes for training data\")\n",
        "plt.contourf(xx, yy, z, alpha=0.3, cmap=\"rainbow\")\n",
        "plt.scatter(data_class1_train[:, 0],data_class1_train[:, 1],label=\"class-1\",)\n",
        "plt.scatter(data_class2_train[:, 0],data_class2_train[:, 1],label=\"class-2\",)\n",
        "plt.scatter(data_class3_train[:, 0],data_class3_train[:, 1],label=\"class-3\",)\n",
        "plt.legend(loc =\"lower right\")"
      ],
      "metadata": {
        "id": "HQ5_gOQ1YAiZ"
      },
      "execution_count": null,
      "outputs": []
    }
  ]
}