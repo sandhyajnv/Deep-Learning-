{
  "nbformat": 4,
  "nbformat_minor": 0,
  "metadata": {
    "colab": {
      "provenance": [],
      "authorship_tag": "ABX9TyPWk1jwnv0XdBmi6Cv2fYgo",
      "include_colab_link": true
    },
    "kernelspec": {
      "name": "python3",
      "display_name": "Python 3"
    },
    "language_info": {
      "name": "python"
    }
  },
  "cells": [
    {
      "cell_type": "markdown",
      "metadata": {
        "id": "view-in-github",
        "colab_type": "text"
      },
      "source": [
        "<a href=\"https://colab.research.google.com/github/sandhyajnv/Deep-Learning-/blob/main/Image_classification_Using_VGG19.ipynb\" target=\"_parent\"><img src=\"https://colab.research.google.com/assets/colab-badge.svg\" alt=\"Open In Colab\"/></a>"
      ]
    },
    {
      "cell_type": "code",
      "source": [
        "!pip install tensorflow"
      ],
      "metadata": {
        "colab": {
          "base_uri": "https://localhost:8080/"
        },
        "id": "gSWeIfc5HYol",
        "outputId": "016fbd9d-e5ae-4e32-84f3-da869d884a24"
      },
      "execution_count": null,
      "outputs": [
        {
          "output_type": "stream",
          "name": "stdout",
          "text": [
            "Looking in indexes: https://pypi.org/simple, https://us-python.pkg.dev/colab-wheels/public/simple/\n",
            "Requirement already satisfied: tensorflow in /usr/local/lib/python3.10/dist-packages (2.12.0)\n",
            "Requirement already satisfied: h5py>=2.9.0 in /usr/local/lib/python3.10/dist-packages (from tensorflow) (3.8.0)\n",
            "Requirement already satisfied: numpy<1.24,>=1.22 in /usr/local/lib/python3.10/dist-packages (from tensorflow) (1.22.4)\n",
            "Requirement already satisfied: wrapt<1.15,>=1.11.0 in /usr/local/lib/python3.10/dist-packages (from tensorflow) (1.14.1)\n",
            "Requirement already satisfied: libclang>=13.0.0 in /usr/local/lib/python3.10/dist-packages (from tensorflow) (16.0.0)\n",
            "Requirement already satisfied: packaging in /usr/local/lib/python3.10/dist-packages (from tensorflow) (23.1)\n",
            "Requirement already satisfied: google-pasta>=0.1.1 in /usr/local/lib/python3.10/dist-packages (from tensorflow) (0.2.0)\n",
            "Requirement already satisfied: tensorflow-io-gcs-filesystem>=0.23.1 in /usr/local/lib/python3.10/dist-packages (from tensorflow) (0.32.0)\n",
            "Requirement already satisfied: keras<2.13,>=2.12.0 in /usr/local/lib/python3.10/dist-packages (from tensorflow) (2.12.0)\n",
            "Requirement already satisfied: flatbuffers>=2.0 in /usr/local/lib/python3.10/dist-packages (from tensorflow) (23.3.3)\n",
            "Requirement already satisfied: termcolor>=1.1.0 in /usr/local/lib/python3.10/dist-packages (from tensorflow) (2.3.0)\n",
            "Requirement already satisfied: absl-py>=1.0.0 in /usr/local/lib/python3.10/dist-packages (from tensorflow) (1.4.0)\n",
            "Requirement already satisfied: gast<=0.4.0,>=0.2.1 in /usr/local/lib/python3.10/dist-packages (from tensorflow) (0.4.0)\n",
            "Requirement already satisfied: grpcio<2.0,>=1.24.3 in /usr/local/lib/python3.10/dist-packages (from tensorflow) (1.54.0)\n",
            "Requirement already satisfied: tensorboard<2.13,>=2.12 in /usr/local/lib/python3.10/dist-packages (from tensorflow) (2.12.2)\n",
            "Requirement already satisfied: astunparse>=1.6.0 in /usr/local/lib/python3.10/dist-packages (from tensorflow) (1.6.3)\n",
            "Requirement already satisfied: setuptools in /usr/local/lib/python3.10/dist-packages (from tensorflow) (67.7.2)\n",
            "Requirement already satisfied: protobuf!=4.21.0,!=4.21.1,!=4.21.2,!=4.21.3,!=4.21.4,!=4.21.5,<5.0.0dev,>=3.20.3 in /usr/local/lib/python3.10/dist-packages (from tensorflow) (3.20.3)\n",
            "Requirement already satisfied: tensorflow-estimator<2.13,>=2.12.0 in /usr/local/lib/python3.10/dist-packages (from tensorflow) (2.12.0)\n",
            "Requirement already satisfied: six>=1.12.0 in /usr/local/lib/python3.10/dist-packages (from tensorflow) (1.16.0)\n",
            "Requirement already satisfied: typing-extensions>=3.6.6 in /usr/local/lib/python3.10/dist-packages (from tensorflow) (4.5.0)\n",
            "Requirement already satisfied: jax>=0.3.15 in /usr/local/lib/python3.10/dist-packages (from tensorflow) (0.4.8)\n",
            "Requirement already satisfied: opt-einsum>=2.3.2 in /usr/local/lib/python3.10/dist-packages (from tensorflow) (3.3.0)\n",
            "Requirement already satisfied: wheel<1.0,>=0.23.0 in /usr/local/lib/python3.10/dist-packages (from astunparse>=1.6.0->tensorflow) (0.40.0)\n",
            "Requirement already satisfied: scipy>=1.7 in /usr/local/lib/python3.10/dist-packages (from jax>=0.3.15->tensorflow) (1.10.1)\n",
            "Requirement already satisfied: ml-dtypes>=0.0.3 in /usr/local/lib/python3.10/dist-packages (from jax>=0.3.15->tensorflow) (0.1.0)\n",
            "Requirement already satisfied: tensorboard-data-server<0.8.0,>=0.7.0 in /usr/local/lib/python3.10/dist-packages (from tensorboard<2.13,>=2.12->tensorflow) (0.7.0)\n",
            "Requirement already satisfied: markdown>=2.6.8 in /usr/local/lib/python3.10/dist-packages (from tensorboard<2.13,>=2.12->tensorflow) (3.4.3)\n",
            "Requirement already satisfied: tensorboard-plugin-wit>=1.6.0 in /usr/local/lib/python3.10/dist-packages (from tensorboard<2.13,>=2.12->tensorflow) (1.8.1)\n",
            "Requirement already satisfied: google-auth-oauthlib<1.1,>=0.5 in /usr/local/lib/python3.10/dist-packages (from tensorboard<2.13,>=2.12->tensorflow) (1.0.0)\n",
            "Requirement already satisfied: werkzeug>=1.0.1 in /usr/local/lib/python3.10/dist-packages (from tensorboard<2.13,>=2.12->tensorflow) (2.3.0)\n",
            "Requirement already satisfied: requests<3,>=2.21.0 in /usr/local/lib/python3.10/dist-packages (from tensorboard<2.13,>=2.12->tensorflow) (2.27.1)\n",
            "Requirement already satisfied: google-auth<3,>=1.6.3 in /usr/local/lib/python3.10/dist-packages (from tensorboard<2.13,>=2.12->tensorflow) (2.17.3)\n",
            "Requirement already satisfied: cachetools<6.0,>=2.0.0 in /usr/local/lib/python3.10/dist-packages (from google-auth<3,>=1.6.3->tensorboard<2.13,>=2.12->tensorflow) (5.3.0)\n",
            "Requirement already satisfied: pyasn1-modules>=0.2.1 in /usr/local/lib/python3.10/dist-packages (from google-auth<3,>=1.6.3->tensorboard<2.13,>=2.12->tensorflow) (0.3.0)\n",
            "Requirement already satisfied: rsa<5,>=3.1.4 in /usr/local/lib/python3.10/dist-packages (from google-auth<3,>=1.6.3->tensorboard<2.13,>=2.12->tensorflow) (4.9)\n",
            "Requirement already satisfied: requests-oauthlib>=0.7.0 in /usr/local/lib/python3.10/dist-packages (from google-auth-oauthlib<1.1,>=0.5->tensorboard<2.13,>=2.12->tensorflow) (1.3.1)\n",
            "Requirement already satisfied: urllib3<1.27,>=1.21.1 in /usr/local/lib/python3.10/dist-packages (from requests<3,>=2.21.0->tensorboard<2.13,>=2.12->tensorflow) (1.26.15)\n",
            "Requirement already satisfied: charset-normalizer~=2.0.0 in /usr/local/lib/python3.10/dist-packages (from requests<3,>=2.21.0->tensorboard<2.13,>=2.12->tensorflow) (2.0.12)\n",
            "Requirement already satisfied: certifi>=2017.4.17 in /usr/local/lib/python3.10/dist-packages (from requests<3,>=2.21.0->tensorboard<2.13,>=2.12->tensorflow) (2022.12.7)\n",
            "Requirement already satisfied: idna<4,>=2.5 in /usr/local/lib/python3.10/dist-packages (from requests<3,>=2.21.0->tensorboard<2.13,>=2.12->tensorflow) (3.4)\n",
            "Requirement already satisfied: MarkupSafe>=2.1.1 in /usr/local/lib/python3.10/dist-packages (from werkzeug>=1.0.1->tensorboard<2.13,>=2.12->tensorflow) (2.1.2)\n",
            "Requirement already satisfied: pyasn1<0.6.0,>=0.4.6 in /usr/local/lib/python3.10/dist-packages (from pyasn1-modules>=0.2.1->google-auth<3,>=1.6.3->tensorboard<2.13,>=2.12->tensorflow) (0.5.0)\n",
            "Requirement already satisfied: oauthlib>=3.0.0 in /usr/local/lib/python3.10/dist-packages (from requests-oauthlib>=0.7.0->google-auth-oauthlib<1.1,>=0.5->tensorboard<2.13,>=2.12->tensorflow) (3.2.2)\n"
          ]
        }
      ]
    },
    {
      "cell_type": "code",
      "execution_count": null,
      "metadata": {
        "id": "Ta3gRQIrZP_r"
      },
      "outputs": [],
      "source": [
        "import matplotlib.pyplot as plt\n",
        "import cv2\n",
        "import numpy as np\n",
        "import os\n",
        "from tensorflow import keras\n",
        "from tensorflow.keras import layers,models"
      ]
    },
    {
      "cell_type": "code",
      "source": [
        "from google.colab import drive \n",
        "drive.mount(\"/content/drive\")"
      ],
      "metadata": {
        "id": "4LQtzik_aeUG",
        "colab": {
          "base_uri": "https://localhost:8080/"
        },
        "outputId": "bc10bcbf-d4b8-4447-cfe0-3ad9da418c03"
      },
      "execution_count": null,
      "outputs": [
        {
          "output_type": "stream",
          "name": "stdout",
          "text": [
            "Mounted at /content/drive\n"
          ]
        }
      ]
    },
    {
      "cell_type": "code",
      "source": [
        "Trpath=os.listdir(\"/content/drive/MyDrive/Data_DL_Assignment5/Group_11/train\")\n",
        "Testpath=os.listdir(\"/content/drive/MyDrive/Data_DL_Assignment5/Group_11/test\")\n",
        "Valpath=os.listdir(\"/content/drive/MyDrive/Data_DL_Assignment5/Group_11/val\")\n",
        "Trdata=[]\n",
        "TrLabel=[]\n",
        "Testdata=[]\n",
        "TestLabel=[]\n",
        "Valdata=[]\n",
        "ValLabel=[]\n",
        "data_dict={'scorpion':[1,0,0,0,0],'bonsai':[0,1,0,0,0],'car_side':[0,0,1,0,0],'starfish':[0,0,0,1,0],'buddha':[0,0,0,0,1]}\n",
        "for i in Trpath:\n",
        " \n",
        "  dataclassTrain=os.listdir(\"/content/drive/MyDrive/Data_DL_Assignment5/Group_11/train/{}\".format(i))\n",
        "  \n",
        "    \n",
        "  for j in dataclassTrain:\n",
        "    img=plt.imread(\"/content/drive/MyDrive/Data_DL_Assignment5/Group_11/train/{}/{}\".format(i,j))\n",
        "    if(len(img.shape)!=3):\n",
        "      img=cv2.cvtColor(img, cv2.COLOR_GRAY2BGR )\n",
        "\n",
        "    imgresize=cv2.resize(img,(224,224))\n",
        "    Trdata.append(imgresize)\n",
        "    TrLabel.append(data_dict[i])\n",
        "\n",
        "\n",
        "\n",
        "  \n",
        "\n",
        "\n",
        "\n",
        "\n",
        "  \n",
        "\n"
      ],
      "metadata": {
        "id": "yA5ATd6bbYJ7"
      },
      "execution_count": null,
      "outputs": []
    },
    {
      "cell_type": "code",
      "source": [
        "print(len(Trdata))"
      ],
      "metadata": {
        "colab": {
          "base_uri": "https://localhost:8080/"
        },
        "id": "dPSMOLzrXW_g",
        "outputId": "6c1bae3b-3656-42a8-9dc8-5015cae51ec5"
      },
      "execution_count": null,
      "outputs": [
        {
          "output_type": "stream",
          "name": "stdout",
          "text": [
            "250\n"
          ]
        }
      ]
    },
    {
      "cell_type": "code",
      "source": [
        "for i in Testpath:\n",
        "\n",
        "  dataclassTest=os.listdir(\"/content/drive/MyDrive/Data_DL_Assignment5/Group_11/test/{}\".format(i))\n",
        "  \n",
        "    \n",
        "  for j in dataclassTest:\n",
        "    img=plt.imread(\"/content/drive/MyDrive/Data_DL_Assignment5/Group_11/test/{}/{}\".format(i,j))\n",
        "    if(len(img.shape)!=3):\n",
        "      img=cv2.cvtColor(img, cv2.COLOR_GRAY2BGR )\n",
        "\n",
        "    imgresize=cv2.resize(img,(224,224))\n",
        "    Testdata.append(imgresize)\n",
        "    TestLabel.append(data_dict[i])"
      ],
      "metadata": {
        "id": "U9EzU_M4xS7i"
      },
      "execution_count": null,
      "outputs": []
    },
    {
      "cell_type": "code",
      "source": [
        "for i in Valpath:\n",
        "\n",
        "  dataclassVal=os.listdir(\"/content/drive/MyDrive/Data_DL_Assignment5/Group_11/val/{}\".format(i))\n",
        "  \n",
        "    \n",
        "  for j in dataclassVal:\n",
        "   \n",
        "    img=plt.imread(\"/content/drive/MyDrive/Data_DL_Assignment5/Group_11/val/{}/{}\".format(i,j))\n",
        "    if(len(img.shape)!=3):\n",
        "      img=cv2.cvtColor(img, cv2.COLOR_GRAY2BGR )\n",
        "\n",
        "    imgresize=cv2.resize(img,(224,224))\n",
        "    Valdata.append(imgresize)\n",
        "    ValLabel.append(data_dict[i])"
      ],
      "metadata": {
        "id": "E8MnflP3d0pG"
      },
      "execution_count": null,
      "outputs": []
    },
    {
      "cell_type": "code",
      "source": [
        "print(len(Testdata))"
      ],
      "metadata": {
        "colab": {
          "base_uri": "https://localhost:8080/"
        },
        "id": "na-kJ9TyYL2p",
        "outputId": "c5172232-8700-4080-817b-07d7ce06d056"
      },
      "execution_count": null,
      "outputs": [
        {
          "output_type": "stream",
          "name": "stdout",
          "text": [
            "100\n"
          ]
        }
      ]
    },
    {
      "cell_type": "code",
      "source": [
        "Trdata=np.array(Trdata)\n",
        "Testdata=np.array(Testdata)\n",
        "Valdata=np.array(Valdata)"
      ],
      "metadata": {
        "id": "Ej1uRZwMfAJs"
      },
      "execution_count": null,
      "outputs": []
    },
    {
      "cell_type": "code",
      "source": [
        "TrLabel=np.array(TrLabel)\n",
        "TestLabel=np.array(TestLabel)\n",
        "ValLabel=np.array(ValLabel)"
      ],
      "metadata": {
        "id": "3dqSRTvRfO0U"
      },
      "execution_count": null,
      "outputs": []
    },
    {
      "cell_type": "code",
      "source": [
        "model1=models.Sequential()\n",
        "model1.add(layers.Conv2D(8,(11,11), activation='relu', input_shape=(224, 224, 3),strides=4,padding='valid'))\n",
        "model1.add(layers.MaxPooling2D((2,2),strides=2,padding='valid'))\n",
        "model1.add(layers.Conv2D(16,(5,5), activation='relu', input_shape=(224, 224, 3),strides=4,padding='valid'))\n",
        "model1.add(layers.MaxPooling2D((3,3),strides=2,padding='valid'))\n",
        "model1.add(layers.Flatten())\n",
        "model1.add(layers.Dense(128, activation='relu'))\n",
        "model1.add(layers.Dense(5, activation='softmax'))"
      ],
      "metadata": {
        "id": "CBiQMp7nfvSF"
      },
      "execution_count": null,
      "outputs": []
    },
    {
      "cell_type": "code",
      "source": [
        "model1.summary()"
      ],
      "metadata": {
        "colab": {
          "base_uri": "https://localhost:8080/"
        },
        "id": "TAW7ZAiFL2Yc",
        "outputId": "8548afa4-1952-448d-da3d-37b93b5ffd38"
      },
      "execution_count": null,
      "outputs": [
        {
          "output_type": "stream",
          "name": "stdout",
          "text": [
            "Model: \"sequential\"\n",
            "_________________________________________________________________\n",
            " Layer (type)                Output Shape              Param #   \n",
            "=================================================================\n",
            " conv2d (Conv2D)             (None, 54, 54, 8)         2912      \n",
            "                                                                 \n",
            " max_pooling2d (MaxPooling2D  (None, 27, 27, 8)        0         \n",
            " )                                                               \n",
            "                                                                 \n",
            " conv2d_1 (Conv2D)           (None, 6, 6, 16)          3216      \n",
            "                                                                 \n",
            " max_pooling2d_1 (MaxPooling  (None, 2, 2, 16)         0         \n",
            " 2D)                                                             \n",
            "                                                                 \n",
            " flatten (Flatten)           (None, 64)                0         \n",
            "                                                                 \n",
            " dense (Dense)               (None, 128)               8320      \n",
            "                                                                 \n",
            " dense_1 (Dense)             (None, 5)                 645       \n",
            "                                                                 \n",
            "=================================================================\n",
            "Total params: 15,093\n",
            "Trainable params: 15,093\n",
            "Non-trainable params: 0\n",
            "_________________________________________________________________\n"
          ]
        }
      ]
    },
    {
      "cell_type": "code",
      "source": [
        "Adam1=keras.optimizers.Adam(learning_rate=0.001,epsilon=1e-08)\n",
        "my_callbacks=[keras.callbacks.EarlyStopping(monitor='loss',min_delta=0.0001,patience=1)]\n",
        "model1.compile(optimizer=Adam1,loss=keras.losses.CategoricalCrossentropy(),metrics=['accuracy'])"
      ],
      "metadata": {
        "id": "V6znZnaFLdVB"
      },
      "execution_count": null,
      "outputs": []
    },
    {
      "cell_type": "code",
      "source": [
        "history1 = model1.fit(x=Trdata/255.0,y=TrLabel,batch_size=1,epochs=10000,validation_split=0,validation_data=(Valdata/255.0,ValLabel),shuffle=True,validation_batch_size=None,verbose=\"auto\",callbacks=my_callbacks)"
      ],
      "metadata": {
        "id": "4gN5Kc-JLbAM",
        "colab": {
          "base_uri": "https://localhost:8080/"
        },
        "outputId": "0350e0c0-de27-48ba-a1cf-28c4f0442383"
      },
      "execution_count": null,
      "outputs": [
        {
          "output_type": "stream",
          "name": "stdout",
          "text": [
            "Epoch 1/10000\n",
            "250/250 [==============================] - 5s 19ms/step - loss: 1.6087 - accuracy: 0.2120 - val_loss: 1.5979 - val_accuracy: 0.3600\n",
            "Epoch 2/10000\n",
            "250/250 [==============================] - 3s 14ms/step - loss: 1.6048 - accuracy: 0.2560 - val_loss: 1.5836 - val_accuracy: 0.2600\n",
            "Epoch 3/10000\n",
            "250/250 [==============================] - 3s 13ms/step - loss: 1.5825 - accuracy: 0.2920 - val_loss: 1.5612 - val_accuracy: 0.2600\n",
            "Epoch 4/10000\n",
            "250/250 [==============================] - 3s 13ms/step - loss: 1.5497 - accuracy: 0.2800 - val_loss: 1.5444 - val_accuracy: 0.2800\n",
            "Epoch 5/10000\n",
            "250/250 [==============================] - 5s 20ms/step - loss: 1.4730 - accuracy: 0.3640 - val_loss: 1.4371 - val_accuracy: 0.3800\n",
            "Epoch 6/10000\n",
            "250/250 [==============================] - 3s 14ms/step - loss: 1.3439 - accuracy: 0.4640 - val_loss: 1.7229 - val_accuracy: 0.2000\n",
            "Epoch 7/10000\n",
            "250/250 [==============================] - 4s 14ms/step - loss: 1.1670 - accuracy: 0.5360 - val_loss: 1.2346 - val_accuracy: 0.5000\n",
            "Epoch 8/10000\n",
            "250/250 [==============================] - 4s 14ms/step - loss: 1.0098 - accuracy: 0.6040 - val_loss: 1.2610 - val_accuracy: 0.5200\n",
            "Epoch 9/10000\n",
            "250/250 [==============================] - 5s 20ms/step - loss: 0.8339 - accuracy: 0.7080 - val_loss: 1.2207 - val_accuracy: 0.4400\n",
            "Epoch 10/10000\n",
            "250/250 [==============================] - 3s 13ms/step - loss: 0.7187 - accuracy: 0.7200 - val_loss: 1.4255 - val_accuracy: 0.4200\n",
            "Epoch 11/10000\n",
            "250/250 [==============================] - 3s 13ms/step - loss: 0.5524 - accuracy: 0.8040 - val_loss: 1.5490 - val_accuracy: 0.4200\n",
            "Epoch 12/10000\n",
            "250/250 [==============================] - 3s 13ms/step - loss: 0.4481 - accuracy: 0.8440 - val_loss: 1.9862 - val_accuracy: 0.4600\n",
            "Epoch 13/10000\n",
            "250/250 [==============================] - 5s 18ms/step - loss: 0.3587 - accuracy: 0.8560 - val_loss: 1.6741 - val_accuracy: 0.4800\n",
            "Epoch 14/10000\n",
            "250/250 [==============================] - 3s 11ms/step - loss: 0.3102 - accuracy: 0.8800 - val_loss: 2.1651 - val_accuracy: 0.3600\n",
            "Epoch 15/10000\n",
            "250/250 [==============================] - 3s 11ms/step - loss: 0.2046 - accuracy: 0.9400 - val_loss: 2.0361 - val_accuracy: 0.4400\n",
            "Epoch 16/10000\n",
            "250/250 [==============================] - 3s 12ms/step - loss: 0.2465 - accuracy: 0.9040 - val_loss: 1.9858 - val_accuracy: 0.4600\n"
          ]
        }
      ]
    },
    {
      "cell_type": "code",
      "source": [
        "predicted=model1.predict(Testdata/255.0)"
      ],
      "metadata": {
        "colab": {
          "base_uri": "https://localhost:8080/"
        },
        "id": "YRkdC90jNAg_",
        "outputId": "dd597103-3a27-496d-8652-67829a52d416"
      },
      "execution_count": null,
      "outputs": [
        {
          "output_type": "stream",
          "name": "stdout",
          "text": [
            "4/4 [==============================] - 0s 36ms/step\n"
          ]
        }
      ]
    },
    {
      "cell_type": "code",
      "source": [
        "predtest=np.int_(np.rint(predicted))"
      ],
      "metadata": {
        "id": "h9Gl3eYfZeyx"
      },
      "execution_count": null,
      "outputs": []
    },
    {
      "cell_type": "code",
      "source": [
        "model1.evaluate(Testdata/255.0,TestLabel)"
      ],
      "metadata": {
        "colab": {
          "base_uri": "https://localhost:8080/"
        },
        "id": "OZFiPmCISjpv",
        "outputId": "a67213ce-8059-4e62-d2e1-13661556b34a"
      },
      "execution_count": null,
      "outputs": [
        {
          "output_type": "stream",
          "name": "stdout",
          "text": [
            "4/4 [==============================] - 0s 34ms/step - loss: 2.3094 - accuracy: 0.4400\n"
          ]
        },
        {
          "output_type": "execute_result",
          "data": {
            "text/plain": [
              "[2.309415817260742, 0.4399999976158142]"
            ]
          },
          "metadata": {},
          "execution_count": 18
        }
      ]
    },
    {
      "cell_type": "code",
      "source": [
        "print(Testdata.shape)"
      ],
      "metadata": {
        "colab": {
          "base_uri": "https://localhost:8080/"
        },
        "id": "6tQ4F3frgA8A",
        "outputId": "ea2b07e2-b46d-4c1e-8fa3-26964568c5aa"
      },
      "execution_count": null,
      "outputs": [
        {
          "output_type": "stream",
          "name": "stdout",
          "text": [
            "(100, 224, 224, 3)\n"
          ]
        }
      ]
    },
    {
      "cell_type": "code",
      "source": [
        "\n",
        "test=[]\n",
        "testlabel=[]\n",
        "for i in range(Testdata.shape[0]):\n",
        "  test.append(np.argmax(predtest[i,:]))\n",
        "  testlabel.append(np.argmax(TestLabel[i,:]))"
      ],
      "metadata": {
        "id": "LKrhqCEHfoY2"
      },
      "execution_count": null,
      "outputs": []
    },
    {
      "cell_type": "code",
      "source": [
        "from sklearn.metrics import confusion_matrix\n",
        "cm=confusion_matrix(testlabel,test)\n",
        "print(cm)"
      ],
      "metadata": {
        "colab": {
          "base_uri": "https://localhost:8080/"
        },
        "id": "i6H5GGmXQnVb",
        "outputId": "cca645bd-7a08-4298-b9fd-bdca5d37203c"
      },
      "execution_count": null,
      "outputs": [
        {
          "output_type": "stream",
          "name": "stdout",
          "text": [
            "[[ 7  2  6  5  0]\n",
            " [ 6  8  3  2  1]\n",
            " [ 3  0 17  0  0]\n",
            " [ 5  1  5  5  4]\n",
            " [ 6  2  3  3  6]]\n"
          ]
        }
      ]
    },
    {
      "cell_type": "code",
      "source": [
        "import tensorflow as tf\n",
        "from tensorflow.keras.applications.vgg19 import VGG19\n",
        "from tensorflow.keras.models import Model\n",
        "from tensorflow.keras.layers import Dense\n",
        "\n",
        "\n",
        "vgg_model = VGG19(include_top=False, weights='imagenet', input_shape=(224, 224, 3))\n",
        "\n",
        "for layer in vgg_model.layers:\n",
        "    layer.trainable = False\n",
        "\n",
        "\n",
        "x = vgg_model.output\n",
        "x = tf.keras.layers.Flatten()(x)\n",
        "\n",
        "x = Dense(128, activation='relu')(x)\n",
        "x = Dense(5, activation='softmax')(x)\n",
        "\n",
        "model = Model(inputs=vgg_model.input, outputs=x)\n",
        "Adam2=keras.optimizers.Adam(learning_rate=0.001,epsilon=1e-08)\n",
        "my_callbacks1=[keras.callbacks.EarlyStopping(monitor='loss',min_delta=0.0001,patience=1)]\n",
        "\n",
        "\n",
        "model.compile(loss='categorical_crossentropy',\n",
        "              optimizer=Adam2,\n",
        "              metrics=['accuracy'])\n",
        "\n",
        "model.summary()\n",
        "\n",
        "\n",
        "\n",
        "\n",
        "#model.save('vgg19_5class.h5')\n"
      ],
      "metadata": {
        "colab": {
          "base_uri": "https://localhost:8080/"
        },
        "id": "kulVv20wgWSI",
        "outputId": "27b53bed-63a6-4fee-f7c2-ded445a7f24d"
      },
      "execution_count": null,
      "outputs": [
        {
          "output_type": "stream",
          "name": "stdout",
          "text": [
            "Downloading data from https://storage.googleapis.com/tensorflow/keras-applications/vgg19/vgg19_weights_tf_dim_ordering_tf_kernels_notop.h5\n",
            "80134624/80134624 [==============================] - 1s 0us/step\n",
            "Model: \"model\"\n",
            "_________________________________________________________________\n",
            " Layer (type)                Output Shape              Param #   \n",
            "=================================================================\n",
            " input_1 (InputLayer)        [(None, 224, 224, 3)]     0         \n",
            "                                                                 \n",
            " block1_conv1 (Conv2D)       (None, 224, 224, 64)      1792      \n",
            "                                                                 \n",
            " block1_conv2 (Conv2D)       (None, 224, 224, 64)      36928     \n",
            "                                                                 \n",
            " block1_pool (MaxPooling2D)  (None, 112, 112, 64)      0         \n",
            "                                                                 \n",
            " block2_conv1 (Conv2D)       (None, 112, 112, 128)     73856     \n",
            "                                                                 \n",
            " block2_conv2 (Conv2D)       (None, 112, 112, 128)     147584    \n",
            "                                                                 \n",
            " block2_pool (MaxPooling2D)  (None, 56, 56, 128)       0         \n",
            "                                                                 \n",
            " block3_conv1 (Conv2D)       (None, 56, 56, 256)       295168    \n",
            "                                                                 \n",
            " block3_conv2 (Conv2D)       (None, 56, 56, 256)       590080    \n",
            "                                                                 \n",
            " block3_conv3 (Conv2D)       (None, 56, 56, 256)       590080    \n",
            "                                                                 \n",
            " block3_conv4 (Conv2D)       (None, 56, 56, 256)       590080    \n",
            "                                                                 \n",
            " block3_pool (MaxPooling2D)  (None, 28, 28, 256)       0         \n",
            "                                                                 \n",
            " block4_conv1 (Conv2D)       (None, 28, 28, 512)       1180160   \n",
            "                                                                 \n",
            " block4_conv2 (Conv2D)       (None, 28, 28, 512)       2359808   \n",
            "                                                                 \n",
            " block4_conv3 (Conv2D)       (None, 28, 28, 512)       2359808   \n",
            "                                                                 \n",
            " block4_conv4 (Conv2D)       (None, 28, 28, 512)       2359808   \n",
            "                                                                 \n",
            " block4_pool (MaxPooling2D)  (None, 14, 14, 512)       0         \n",
            "                                                                 \n",
            " block5_conv1 (Conv2D)       (None, 14, 14, 512)       2359808   \n",
            "                                                                 \n",
            " block5_conv2 (Conv2D)       (None, 14, 14, 512)       2359808   \n",
            "                                                                 \n",
            " block5_conv3 (Conv2D)       (None, 14, 14, 512)       2359808   \n",
            "                                                                 \n",
            " block5_conv4 (Conv2D)       (None, 14, 14, 512)       2359808   \n",
            "                                                                 \n",
            " block5_pool (MaxPooling2D)  (None, 7, 7, 512)         0         \n",
            "                                                                 \n",
            " flatten_1 (Flatten)         (None, 25088)             0         \n",
            "                                                                 \n",
            " dense_2 (Dense)             (None, 128)               3211392   \n",
            "                                                                 \n",
            " dense_3 (Dense)             (None, 5)                 645       \n",
            "                                                                 \n",
            "=================================================================\n",
            "Total params: 23,236,421\n",
            "Trainable params: 3,212,037\n",
            "Non-trainable params: 20,024,384\n",
            "_________________________________________________________________\n"
          ]
        }
      ]
    },
    {
      "cell_type": "code",
      "source": [
        "\n",
        "for i in range(len(vgg_model.layers)):\n",
        " layer = vgg_model.layers[i]\n",
        "\n",
        "#  if 'conv' not in layer.name:\n",
        "#   continue\n",
        "\n",
        " print(i, layer.name, layer.output.shape)"
      ],
      "metadata": {
        "colab": {
          "base_uri": "https://localhost:8080/"
        },
        "id": "fOkPFYGez6XL",
        "outputId": "fc415912-48e5-4668-9172-1d55dbaed2ed"
      },
      "execution_count": null,
      "outputs": [
        {
          "output_type": "stream",
          "name": "stdout",
          "text": [
            "0 input_1 (None, 224, 224, 3)\n",
            "1 block1_conv1 (None, 224, 224, 64)\n",
            "2 block1_conv2 (None, 224, 224, 64)\n",
            "3 block1_pool (None, 112, 112, 64)\n",
            "4 block2_conv1 (None, 112, 112, 128)\n",
            "5 block2_conv2 (None, 112, 112, 128)\n",
            "6 block2_pool (None, 56, 56, 128)\n",
            "7 block3_conv1 (None, 56, 56, 256)\n",
            "8 block3_conv2 (None, 56, 56, 256)\n",
            "9 block3_conv3 (None, 56, 56, 256)\n",
            "10 block3_conv4 (None, 56, 56, 256)\n",
            "11 block3_pool (None, 28, 28, 256)\n",
            "12 block4_conv1 (None, 28, 28, 512)\n",
            "13 block4_conv2 (None, 28, 28, 512)\n",
            "14 block4_conv3 (None, 28, 28, 512)\n",
            "15 block4_conv4 (None, 28, 28, 512)\n",
            "16 block4_pool (None, 14, 14, 512)\n",
            "17 block5_conv1 (None, 14, 14, 512)\n",
            "18 block5_conv2 (None, 14, 14, 512)\n",
            "19 block5_conv3 (None, 14, 14, 512)\n",
            "20 block5_conv4 (None, 14, 14, 512)\n",
            "21 block5_pool (None, 7, 7, 512)\n"
          ]
        }
      ]
    },
    {
      "cell_type": "code",
      "source": [
        "model2 = Model(inputs=vgg_model.inputs, outputs=vgg_model.layers[20].output)"
      ],
      "metadata": {
        "id": "s1u4efaKzoLz"
      },
      "execution_count": null,
      "outputs": []
    },
    {
      "cell_type": "code",
      "source": [
        "vgg_pred_test=model2(Testdata)"
      ],
      "metadata": {
        "id": "WnAAQtm2xONq"
      },
      "execution_count": null,
      "outputs": []
    },
    {
      "cell_type": "code",
      "source": [
        "features = vgg_pred_test\n",
        "#plt.imshow(features[80,:,:,3]*255.0)\n",
        "#features.shape[3]+1\n",
        "fig = plt.figure(figsize=(20,15))\n",
        "for i in range(1,65):\n",
        "    plt.subplot(8,8,i)\n",
        "  \n",
        "    plt.imshow(features[0,:,:,i-1], cmap='gray')\n",
        "    \n",
        "    \n",
        "plt.show()"
      ],
      "metadata": {
        "colab": {
          "base_uri": "https://localhost:8080/",
          "height": 881
        },
        "id": "Lfk6CUeX2xdx",
        "outputId": "c78446ad-593e-4df0-f07e-308764805168"
      },
      "execution_count": null,
      "outputs": [
        {
          "output_type": "display_data",
          "data": {
            "text/plain": [
              "<Figure size 2000x1500 with 64 Axes>"
            ],
            "image/png": "[encoded data removed]"
          },
          "metadata": {}
        }
      ]
    },
    {
      "cell_type": "code",
      "source": [
        "print(vgg_pred_test.shape)"
      ],
      "metadata": {
        "colab": {
          "base_uri": "https://localhost:8080/"
        },
        "id": "gVgTCBeDx0qi",
        "outputId": "916090d0-ab92-45c0-a66b-269e65d68585"
      },
      "execution_count": null,
      "outputs": [
        {
          "output_type": "stream",
          "name": "stdout",
          "text": [
            "(100, 7, 7, 512)\n"
          ]
        }
      ]
    },
    {
      "cell_type": "code",
      "source": [
        "history = model.fit(x=Trdata/255.0,y=TrLabel,\n",
        "                    batch_size=10,epochs=10000,validation_split=0,validation_data=(Valdata/255.0,ValLabel),shuffle=True,validation_batch_size=None,callbacks=my_callbacks1)"
      ],
      "metadata": {
        "colab": {
          "base_uri": "https://localhost:8080/"
        },
        "id": "5qkVgO1KizeL",
        "outputId": "a6ad22ea-27cd-41cc-da85-480303071cbb"
      },
      "execution_count": null,
      "outputs": [
        {
          "output_type": "stream",
          "name": "stdout",
          "text": [
            "Epoch 1/10000\n",
            "25/25 [==============================] - 319s 13s/step - loss: 2.6398 - accuracy: 0.4640 - val_loss: 0.2373 - val_accuracy: 0.9200\n",
            "Epoch 2/10000\n",
            "25/25 [==============================] - 316s 13s/step - loss: 0.1301 - accuracy: 0.9600 - val_loss: 0.0880 - val_accuracy: 0.9800\n",
            "Epoch 3/10000\n",
            "25/25 [==============================] - 311s 13s/step - loss: 0.0361 - accuracy: 1.0000 - val_loss: 0.0434 - val_accuracy: 1.0000\n",
            "Epoch 4/10000\n",
            "25/25 [==============================] - 315s 13s/step - loss: 0.0150 - accuracy: 1.0000 - val_loss: 0.0372 - val_accuracy: 1.0000\n",
            "Epoch 5/10000\n",
            "25/25 [==============================] - 316s 13s/step - loss: 0.0100 - accuracy: 1.0000 - val_loss: 0.0358 - val_accuracy: 1.0000\n",
            "Epoch 6/10000\n",
            "25/25 [==============================] - 313s 13s/step - loss: 0.0078 - accuracy: 1.0000 - val_loss: 0.0316 - val_accuracy: 1.0000\n",
            "Epoch 7/10000\n",
            "25/25 [==============================] - 315s 13s/step - loss: 0.0063 - accuracy: 1.0000 - val_loss: 0.0295 - val_accuracy: 1.0000\n",
            "Epoch 8/10000\n",
            "25/25 [==============================] - 311s 13s/step - loss: 0.0046 - accuracy: 1.0000 - val_loss: 0.0281 - val_accuracy: 1.0000\n",
            "Epoch 9/10000\n",
            "25/25 [==============================] - 315s 13s/step - loss: 0.0038 - accuracy: 1.0000 - val_loss: 0.0253 - val_accuracy: 1.0000\n",
            "Epoch 10/10000\n",
            "25/25 [==============================] - 315s 13s/step - loss: 0.0033 - accuracy: 1.0000 - val_loss: 0.0237 - val_accuracy: 1.0000\n",
            "Epoch 11/10000\n",
            "25/25 [==============================] - 312s 13s/step - loss: 0.0029 - accuracy: 1.0000 - val_loss: 0.0239 - val_accuracy: 1.0000\n",
            "Epoch 12/10000\n",
            "25/25 [==============================] - 315s 13s/step - loss: 0.0026 - accuracy: 1.0000 - val_loss: 0.0225 - val_accuracy: 1.0000\n",
            "Epoch 13/10000\n",
            "25/25 [==============================] - 312s 13s/step - loss: 0.0023 - accuracy: 1.0000 - val_loss: 0.0214 - val_accuracy: 1.0000\n",
            "Epoch 14/10000\n",
            "25/25 [==============================] - 316s 13s/step - loss: 0.0020 - accuracy: 1.0000 - val_loss: 0.0207 - val_accuracy: 1.0000\n",
            "Epoch 15/10000\n",
            "25/25 [==============================] - 315s 13s/step - loss: 0.0018 - accuracy: 1.0000 - val_loss: 0.0208 - val_accuracy: 1.0000\n",
            "Epoch 16/10000\n",
            "25/25 [==============================] - 265s 11s/step - loss: 0.0016 - accuracy: 1.0000 - val_loss: 0.0191 - val_accuracy: 1.0000\n",
            "Epoch 17/10000\n",
            "25/25 [==============================] - 267s 11s/step - loss: 0.0015 - accuracy: 1.0000 - val_loss: 0.0191 - val_accuracy: 1.0000\n",
            "Epoch 18/10000\n",
            "25/25 [==============================] - 265s 11s/step - loss: 0.0014 - accuracy: 1.0000 - val_loss: 0.0182 - val_accuracy: 1.0000\n",
            "Epoch 19/10000\n",
            "25/25 [==============================] - 309s 13s/step - loss: 0.0012 - accuracy: 1.0000 - val_loss: 0.0181 - val_accuracy: 1.0000\n",
            "Epoch 20/10000\n",
            "25/25 [==============================] - 309s 13s/step - loss: 0.0011 - accuracy: 1.0000 - val_loss: 0.0174 - val_accuracy: 1.0000\n",
            "Epoch 21/10000\n",
            "25/25 [==============================] - 265s 11s/step - loss: 0.0011 - accuracy: 1.0000 - val_loss: 0.0177 - val_accuracy: 1.0000\n"
          ]
        }
      ]
    },
    {
      "cell_type": "code",
      "source": [
        "model.save('vgg19_5class.h5')"
      ],
      "metadata": {
        "id": "8nWR66PkBEkF"
      },
      "execution_count": null,
      "outputs": []
    },
    {
      "cell_type": "code",
      "source": [
        "model.evaluate(Testdata/255.0,TestLabel)"
      ],
      "metadata": {
        "colab": {
          "base_uri": "https://localhost:8080/"
        },
        "id": "9SaxCxjCBRJv",
        "outputId": "6bad2996-9e4d-482f-8126-dc05c9c5b1f8"
      },
      "execution_count": null,
      "outputs": [
        {
          "output_type": "stream",
          "name": "stdout",
          "text": [
            "7/7 [==============================] - 143s 20s/step - loss: 0.1234 - accuracy: 0.9600\n"
          ]
        },
        {
          "output_type": "execute_result",
          "data": {
            "text/plain": [
              "[0.12344413995742798, 0.9599999785423279]"
            ]
          },
          "metadata": {},
          "execution_count": 111
        }
      ]
    },
    {
      "cell_type": "code",
      "source": [
        "predictedvgg19=model.predict(Testdata)\n",
        "predictedvgg19=np.int_(np.rint(predictedvgg19))\n",
        "testvgg19=[]\n",
        "testlabelvgg19=[]\n",
        "for i in range(Testdata.shape[0]):\n",
        "  testvgg19.append(np.argmax(predictedvgg19[i,:]))\n",
        "  testlabelvgg19.append(np.argmax(TestLabel[i,:]))\n",
        "\n",
        "cmvgg19=confusion_matrix(testlabelvgg19,testvgg19)\n",
        "print(cmvgg19)"
      ],
      "metadata": {
        "colab": {
          "base_uri": "https://localhost:8080/"
        },
        "id": "kxUpKpiyCG0v",
        "outputId": "12ca852d-2819-415f-fe8b-11e9845b1a9e"
      },
      "execution_count": null,
      "outputs": [
        {
          "output_type": "stream",
          "name": "stdout",
          "text": [
            "7/7 [==============================] - 138s 19s/step\n",
            "[[40  0  0  0  0]\n",
            " [ 2 38  0  0  0]\n",
            " [ 0  0 40  0  0]\n",
            " [ 0  0  0 40  0]\n",
            " [ 0  0  0  0 40]]\n"
          ]
        }
      ]
    }
  ]
}